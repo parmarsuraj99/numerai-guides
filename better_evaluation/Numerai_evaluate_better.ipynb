{
  "nbformat": 4,
  "nbformat_minor": 0,
  "metadata": {
    "colab": {
      "name": "Numerai_evaluate_better.ipynb",
      "provenance": [],
      "collapsed_sections": [],
      "authorship_tag": "ABX9TyNG/J/39tFnDEE2J3gYVNHT",
      "include_colab_link": true
    },
    "kernelspec": {
      "name": "python3",
      "display_name": "Python 3"
    },
    "accelerator": "GPU"
  },
  "cells": [
    {
      "cell_type": "markdown",
      "metadata": {
        "id": "view-in-github",
        "colab_type": "text"
      },
      "source": [
        "<a href=\"https://colab.research.google.com/github/parmarsuraj99/numerai-guides/blob/master/better_evaluation/Numerai_evaluate_better.ipynb\" target=\"_parent\"><img src=\"https://colab.research.google.com/assets/colab-badge.svg\" alt=\"Open In Colab\"/></a>"
      ]
    },
    {
      "cell_type": "markdown",
      "metadata": {
        "id": "GjYh7u4jsWul",
        "colab_type": "text"
      },
      "source": [
        "Created by Suraj Parmar\n",
        "\n",
        "- Numerai: [SurajP](https://numer.ai/surajp)\n",
        "\n",
        "- Twitter: [@parmarsuraj99](https://twitter.com/parmarsuraj99)\n",
        "\n",
        "\n",
        "Thanks to [@NJ](https://twitter.com/tasha_jade) and [@MikeP](https://twitter.com/EasyMikeP) for their guidence"
      ]
    },
    {
      "cell_type": "markdown",
      "metadata": {
        "id": "esSvK3mcccGn",
        "colab_type": "text"
      },
      "source": [
        "# Don't just submit and wait. Evaluate!"
      ]
    },
    {
      "cell_type": "markdown",
      "metadata": {
        "id": "8lyfeOgwzDiD",
        "colab_type": "text"
      },
      "source": [
        "A walkthrough to some evaluation metrics you can use for your models. \n",
        "\n",
        "This isn't ment to be a `Run All` notebook. I have tried to make this flexible and customizable so that you can adapt this to your workflow.\n",
        "\n",
        "Hope this helps"
      ]
    },
    {
      "cell_type": "markdown",
      "metadata": {
        "id": "aTc0OJEJ77Sb",
        "colab_type": "text"
      },
      "source": [
        "## 1.0 Loading required libraries 📔 and dataset 🗄️🔽"
      ]
    },
    {
      "cell_type": "code",
      "metadata": {
        "id": "dukzbOx5YPL2",
        "colab_type": "code",
        "colab": {
          "base_uri": "https://localhost:8080/",
          "height": 476
        },
        "outputId": "54db25bf-109a-48d4-ba6e-5b8db032de0e"
      },
      "source": [
        "!pip install numerapi\n",
        "!pip install catboost;"
      ],
      "execution_count": 1,
      "outputs": [
        {
          "output_type": "stream",
          "text": [
            "Requirement already satisfied: numerapi in /usr/local/lib/python3.6/dist-packages (2.3.4)\n",
            "Requirement already satisfied: tqdm>=4.29.1 in /usr/local/lib/python3.6/dist-packages (from numerapi) (4.41.1)\n",
            "Requirement already satisfied: python-dateutil in /usr/local/lib/python3.6/dist-packages (from numerapi) (2.8.1)\n",
            "Requirement already satisfied: requests in /usr/local/lib/python3.6/dist-packages (from numerapi) (2.23.0)\n",
            "Requirement already satisfied: pytz in /usr/local/lib/python3.6/dist-packages (from numerapi) (2018.9)\n",
            "Requirement already satisfied: click>=7.0 in /usr/local/lib/python3.6/dist-packages (from numerapi) (7.1.2)\n",
            "Requirement already satisfied: six>=1.5 in /usr/local/lib/python3.6/dist-packages (from python-dateutil->numerapi) (1.15.0)\n",
            "Requirement already satisfied: urllib3!=1.25.0,!=1.25.1,<1.26,>=1.21.1 in /usr/local/lib/python3.6/dist-packages (from requests->numerapi) (1.24.3)\n",
            "Requirement already satisfied: idna<3,>=2.5 in /usr/local/lib/python3.6/dist-packages (from requests->numerapi) (2.10)\n",
            "Requirement already satisfied: certifi>=2017.4.17 in /usr/local/lib/python3.6/dist-packages (from requests->numerapi) (2020.6.20)\n",
            "Requirement already satisfied: chardet<4,>=3.0.2 in /usr/local/lib/python3.6/dist-packages (from requests->numerapi) (3.0.4)\n",
            "Requirement already satisfied: catboost in /usr/local/lib/python3.6/dist-packages (0.24.1)\n",
            "Requirement already satisfied: scipy in /usr/local/lib/python3.6/dist-packages (from catboost) (1.4.1)\n",
            "Requirement already satisfied: plotly in /usr/local/lib/python3.6/dist-packages (from catboost) (4.4.1)\n",
            "Requirement already satisfied: graphviz in /usr/local/lib/python3.6/dist-packages (from catboost) (0.10.1)\n",
            "Requirement already satisfied: matplotlib in /usr/local/lib/python3.6/dist-packages (from catboost) (3.2.2)\n",
            "Requirement already satisfied: pandas>=0.24.0 in /usr/local/lib/python3.6/dist-packages (from catboost) (1.0.5)\n",
            "Requirement already satisfied: six in /usr/local/lib/python3.6/dist-packages (from catboost) (1.15.0)\n",
            "Requirement already satisfied: numpy>=1.16.0 in /usr/local/lib/python3.6/dist-packages (from catboost) (1.18.5)\n",
            "Requirement already satisfied: retrying>=1.3.3 in /usr/local/lib/python3.6/dist-packages (from plotly->catboost) (1.3.3)\n",
            "Requirement already satisfied: kiwisolver>=1.0.1 in /usr/local/lib/python3.6/dist-packages (from matplotlib->catboost) (1.2.0)\n",
            "Requirement already satisfied: pyparsing!=2.0.4,!=2.1.2,!=2.1.6,>=2.0.1 in /usr/local/lib/python3.6/dist-packages (from matplotlib->catboost) (2.4.7)\n",
            "Requirement already satisfied: cycler>=0.10 in /usr/local/lib/python3.6/dist-packages (from matplotlib->catboost) (0.10.0)\n",
            "Requirement already satisfied: python-dateutil>=2.1 in /usr/local/lib/python3.6/dist-packages (from matplotlib->catboost) (2.8.1)\n",
            "Requirement already satisfied: pytz>=2017.2 in /usr/local/lib/python3.6/dist-packages (from pandas>=0.24.0->catboost) (2018.9)\n"
          ],
          "name": "stdout"
        }
      ]
    },
    {
      "cell_type": "code",
      "metadata": {
        "id": "L3qA9k0VZ4Hj",
        "colab_type": "code",
        "colab": {}
      },
      "source": [
        "import os\n",
        "import gc\n",
        "import csv\n",
        "import sys\n",
        "import glob\n",
        "import time\n",
        "from pathlib import Path\n",
        "from multiprocessing import Pool\n",
        "\n",
        "import numerapi\n",
        "\n",
        "import scipy\n",
        "import numpy as np\n",
        "import pandas as pd\n",
        "import matplotlib.pyplot as plt\n",
        "\n",
        "import tensorflow as tf\n",
        "from catboost import CatBoostRegressor\n",
        "from sklearn.linear_model import LinearRegression"
      ],
      "execution_count": 2,
      "outputs": []
    },
    {
      "cell_type": "code",
      "metadata": {
        "id": "HrzPVfR6egjj",
        "colab_type": "code",
        "colab": {
          "base_uri": "https://localhost:8080/",
          "height": 35
        },
        "outputId": "5206cc21-3e46-4bef-d95b-2a32aa067e66"
      },
      "source": [
        "napi = numerapi.NumerAPI(verbosity=\"info\")\n",
        "# download current dataset\n",
        "napi.download_current_dataset(unzip=True)\n",
        "\n",
        "current_ds = napi.get_current_round()\n",
        "latest_round = os.path.join('numerai_dataset_'+str(current_ds))"
      ],
      "execution_count": 3,
      "outputs": [
        {
          "output_type": "stream",
          "text": [
            "2020-08-31 18:38:26,289 INFO numerapi.base_api: target file already exists\n"
          ],
          "name": "stderr"
        }
      ]
    },
    {
      "cell_type": "code",
      "metadata": {
        "id": "tHATa1jEq01J",
        "colab_type": "code",
        "colab": {}
      },
      "source": [
        "TOURNAMENT_NAME = \"kazutsugi\"\n",
        "TARGET_NAME = f\"target_{TOURNAMENT_NAME}\"\n",
        "PREDICTION_NAME = f\"prediction_{TOURNAMENT_NAME}\"\n",
        "\n",
        "BENCHMARK = 0\n",
        "BAND = 0.2\n",
        "\n",
        "#-----------------------------------------------------\n",
        "\n",
        "# Submissions are scored by spearman correlation\n",
        "def score(df):\n",
        "    # method=\"first\" breaks ties based on order in array\n",
        "    return np.corrcoef(\n",
        "        df[TARGET_NAME],\n",
        "        df[PREDICTION_NAME].rank(pct=True, method=\"first\")\n",
        "    )[0, 1]\n",
        "\n",
        "\n",
        "# The payout function\n",
        "def payout(scores):\n",
        "    return ((scores - BENCHMARK) / BAND).clip(lower=-1, upper=1)\n",
        "\n",
        "\n",
        "# Read the csv file into a pandas Dataframe\n",
        "def read_csv(file_path):\n",
        "    with open(file_path, 'r') as f:\n",
        "        column_names = next(csv.reader(f))\n",
        "        dtypes = {x: np.float16 for x in column_names if\n",
        "                  x.startswith(('feature', 'target'))}\n",
        "    return pd.read_csv(file_path, dtype=dtypes)"
      ],
      "execution_count": 4,
      "outputs": []
    },
    {
      "cell_type": "code",
      "metadata": {
        "id": "VgodzImqq7z3",
        "colab_type": "code",
        "colab": {
          "base_uri": "https://localhost:8080/",
          "height": 72
        },
        "outputId": "012cffe7-5dee-4460-da5b-5f273a78a679"
      },
      "source": [
        "%%time\n",
        "print(\"# Loading data...\")\n",
        "# The training data is used to train your model how to predict the targets.\n",
        "training_data = read_csv(os.path.join(latest_round, \"numerai_training_data.csv\")).set_index(\"id\")\n",
        "# The tournament data is the data that Numerai uses to evaluate your model.\n",
        "tournament_data = read_csv(os.path.join(latest_round, \"numerai_tournament_data.csv\")).set_index(\"id\")\n",
        "\n",
        "example_preds = read_csv(os.path.join(latest_round, \"example_predictions_target_kazutsugi.csv\")).set_index(\"id\")\n",
        "\n",
        "validation_data = tournament_data[tournament_data.data_type == \"validation\"]\n"
      ],
      "execution_count": 5,
      "outputs": [
        {
          "output_type": "stream",
          "text": [
            "# Loading data...\n",
            "CPU times: user 1min 6s, sys: 3.42 s, total: 1min 9s\n",
            "Wall time: 1min 37s\n"
          ],
          "name": "stdout"
        }
      ]
    },
    {
      "cell_type": "code",
      "metadata": {
        "id": "gKGYq1Ce7MHX",
        "colab_type": "code",
        "colab": {
          "base_uri": "https://localhost:8080/",
          "height": 35
        },
        "outputId": "dc97d5cd-414d-4ce0-9ef8-73346f1ef126"
      },
      "source": [
        "feature_names = [f for f in training_data.columns if f.startswith(\"feature\")]\n",
        "print(f\"Loaded {len(feature_names)} features\")"
      ],
      "execution_count": 6,
      "outputs": [
        {
          "output_type": "stream",
          "text": [
            "Loaded 310 features\n"
          ],
          "name": "stdout"
        }
      ]
    },
    {
      "cell_type": "code",
      "metadata": {
        "id": "nWLPUTla61YQ",
        "colab_type": "code",
        "colab": {}
      },
      "source": [
        "TRAIN_EVAL_PREFIX = \"train\"\n",
        "VAL_EVAL_PREFIX = \"val\""
      ],
      "execution_count": 7,
      "outputs": []
    },
    {
      "cell_type": "markdown",
      "metadata": {
        "id": "v9HQWh6zsJcH",
        "colab_type": "text"
      },
      "source": [
        "## <center>Notebook Flow</center>\n",
        "<p align=\"center\">\n",
        "  <img src=\"https://raw.githubusercontent.com/parmarsuraj99/numerai-guides/master/better_evaluation/images/notebook_flow.png\" width=40%>\n",
        "</p>\n",
        "\n",
        "---\n",
        "\n",
        "## <center>Some simple metrics to get started</center>\n",
        "<p align=\"center\">\n",
        "  <img src=\"https://raw.githubusercontent.com/parmarsuraj99/numerai-guides/master/better_evaluation/images/simple_stats.png\" width=70%\">\n",
        "</p>\n"
      ]
    },
    {
      "cell_type": "markdown",
      "metadata": {
        "id": "vM9gwbJqJpiW",
        "colab_type": "text"
      },
      "source": [
        "## 2.1 Some added metrics for evaluation 🔬\n",
        "\n",
        "This is just to get familiar with some simpler metrics. Functions with all the metrics are in the section 2.2"
      ]
    },
    {
      "cell_type": "code",
      "metadata": {
        "id": "RScdwXCNJ7m1",
        "colab_type": "code",
        "colab": {}
      },
      "source": [
        "def spearmanr(target, pred):\n",
        "    return np.corrcoef(\n",
        "        target,\n",
        "        pred.rank(pct=True, method=\"first\")\n",
        "    )[0, 1]\n",
        "\n",
        "def get_basic_per_era_metrics(df:pd.DataFrame, \n",
        "                        isVal=None, \n",
        "                        fig_name=\"per_era_scores.png\") -> pd.Series:\n",
        "    \"\"\"\n",
        "    Some metrics related to per-era scores.\n",
        "    Plots per-era mean correlation with `TARGET_NAME` column\n",
        "    more metrics at: https://forum.numer.ai/t/more-metrics-for-ya/636\n",
        "\n",
        "    Parameters\n",
        "    ----------\n",
        "    df_with_preds : pd.DataFrame\n",
        "        Training or Toutnament DataFrame having predictions assigned\n",
        "        at `PREDICTION_NAME` column.\n",
        "\n",
        "    isVal: bool, optional, default:None\n",
        "    \n",
        "    fig_name: str, optional, default:per_era_scores.png\n",
        "\n",
        "    Returns:\n",
        "    ------\n",
        "    pd.Series: Pandas Series having \n",
        "        (mean, std, %preds<0.5, and %preds<mean(preds), corr w/ example_preds)\n",
        "    \n",
        "    \"\"\"\n",
        "\n",
        "    prefix=None\n",
        "    #Some checks for deciding between training and tournament data\n",
        "    if isVal:\n",
        "        df = df[df.data_type == \"validation\"]\n",
        "        prefix=VAL_EVAL_PREFIX\n",
        "        print(\"predicting on validation...\")\n",
        "    else:\n",
        "        df = df\n",
        "        prefix=TRAIN_EVAL_PREFIX\n",
        "        print(\"predicting on train...\")\n",
        "\n",
        "    #-----------------------------------------------------\n",
        "    scores = pd.Series(dtype=float)\n",
        "    preds_ = df[PREDICTION_NAME]\n",
        "    scores[f\"{prefix}_mean\"] = preds_.mean()\n",
        "    scores[f\"{prefix}_std_dev\"] = preds_.std()\n",
        "\n",
        "    #-----------------------------------------------------\n",
        "    #Metric Calculations\n",
        "    print(\"getting per era scores\")\n",
        "    era_scores = df.groupby(\"era\").apply(\n",
        "        lambda x: spearmanr(x[TARGET_NAME], x[PREDICTION_NAME]))\n",
        "    \n",
        "    era_scores.sort_index(inplace=True)\n",
        "    era_scores.plot(kind=\"bar\")\n",
        "    print(\"performance over time\")\n",
        "    plt.savefig(f\"{prefix}_{fig_name}\")\n",
        "    plt.show()\n",
        "\n",
        "    #-----------------------------------------------------\n",
        "    scores[f\"{prefix}_mean correlation\"] = np.mean(era_scores)\n",
        "    scores[f\"{prefix}_Std. Dev.\"] = np.std(era_scores)\n",
        "    scores[f\"{prefix}_sharpe\"] = np.mean(era_scores)/np.std(era_scores)\n",
        "\n",
        "    print(scores)\n",
        "    del era_scores\n",
        "    del preds_\n",
        "    \n",
        "    gc.collect()\n",
        "    return scores\n"
      ],
      "execution_count": 8,
      "outputs": []
    },
    {
      "cell_type": "code",
      "metadata": {
        "id": "okx5_Wi4khIM",
        "colab_type": "code",
        "colab": {}
      },
      "source": [
        "def get_all_metrics(model, \n",
        "                    feature_names:list=feature_names, \n",
        "                    fig_name=\"per_era_scores\")->pd.Series:\n",
        "\n",
        "    training_preds = model.predict(training_data[feature_names].values)\n",
        "    training_data[PREDICTION_NAME] = np.array(training_preds).reshape(-1,1)\n",
        "\n",
        "    tournament_preds = model.predict(tournament_data[feature_names].values)\n",
        "    tournament_data[PREDICTION_NAME] = np.array(tournament_preds).reshape(-1,1)\n",
        "\n",
        "    del training_preds\n",
        "    del tournament_preds\n",
        "\n",
        "    print(\"evaluating on training data...\")\n",
        "    tr_per_era_scores = get_basic_per_era_metrics(training_data, isVal=False, fig_name=fig_name)\n",
        "    gc.collect()\n",
        "\n",
        "    print(\"evaluating on validation data...\")\n",
        "    val_per_era_scores = get_basic_per_era_metrics(tournament_data, isVal=True, fig_name=fig_name)\n",
        "    gc.collect()\n",
        "\n",
        "    return pd.concat([\n",
        "                      tr_per_era_scores, val_per_era_scores,\n",
        "                      ])\n",
        "\n"
      ],
      "execution_count": 9,
      "outputs": []
    },
    {
      "cell_type": "markdown",
      "metadata": {
        "id": "RwdqS642BP-u",
        "colab_type": "text"
      },
      "source": [
        "### Creating some models 🤖"
      ]
    },
    {
      "cell_type": "code",
      "metadata": {
        "id": "xiy3tWF07pgV",
        "colab_type": "code",
        "colab": {
          "base_uri": "https://localhost:8080/",
          "height": 35
        },
        "outputId": "0d7aa2f0-355e-4453-9bd6-8ab48be56500"
      },
      "source": [
        "models = dict()\n",
        "\n",
        "#Linear model\n",
        "lin_reg = LinearRegression()\n",
        "models[\"lin_reg\"] = lin_reg\n",
        "\n",
        "#Neural Net\n",
        "nn_model = tf.keras.models.Sequential([\n",
        "                                       tf.keras.layers.Input(shape=(310,)),\n",
        "                                       tf.keras.layers.Dense(64, activation=\"relu\"),\n",
        "                                       tf.keras.layers.Dense(1, activation=\"sigmoid\")\n",
        "])\n",
        "nn_model.compile(loss=\"mse\", optimizer=\"adam\", metrics = [tf.keras.metrics.RootMeanSquaredError()])\n",
        "\n",
        "models[\"keras_mlp_simple\"] = nn_model\n",
        "\n",
        "del lin_reg\n",
        "del nn_model\n",
        "\n",
        "gc.collect()"
      ],
      "execution_count": 10,
      "outputs": [
        {
          "output_type": "execute_result",
          "data": {
            "text/plain": [
              "0"
            ]
          },
          "metadata": {
            "tags": []
          },
          "execution_count": 10
        }
      ]
    },
    {
      "cell_type": "markdown",
      "metadata": {
        "id": "MjcpRy9a0KVS",
        "colab_type": "text"
      },
      "source": [
        "### Training our models⚙️"
      ]
    },
    {
      "cell_type": "code",
      "metadata": {
        "id": "42sdknvqBg2Z",
        "colab_type": "code",
        "colab": {
          "base_uri": "https://localhost:8080/",
          "height": 1000
        },
        "outputId": "55c8d405-0f91-45b8-dfb6-97bbd18ec53c"
      },
      "source": [
        "for model_name in models:\n",
        "    print(f\"Fitting {model_name}...\")\n",
        "\n",
        "    if \"keras\" in model_name:\n",
        "        models[model_name].fit(training_data[feature_names].values, training_data[TARGET_NAME].values, \n",
        "             batch_size=512, \n",
        "             epochs=40,\n",
        "             validation_data=(validation_data[feature_names].values, validation_data[TARGET_NAME].values),\n",
        "             )\n",
        "    else:\n",
        "        models[model_name].fit(training_data[feature_names].values, training_data[TARGET_NAME].values)\n",
        "\n",
        "    gc.collect()"
      ],
      "execution_count": 11,
      "outputs": [
        {
          "output_type": "stream",
          "text": [
            "Fitting lin_reg...\n",
            "Fitting keras_mlp_simple...\n",
            "Epoch 1/40\n",
            "981/981 [==============================] - 3s 3ms/step - loss: 0.1250 - root_mean_squared_error: 0.3535 - val_loss: 0.1252 - val_root_mean_squared_error: 0.3538\n",
            "Epoch 2/40\n",
            "981/981 [==============================] - 3s 3ms/step - loss: 0.1244 - root_mean_squared_error: 0.3528 - val_loss: 0.1249 - val_root_mean_squared_error: 0.3534\n",
            "Epoch 3/40\n",
            "981/981 [==============================] - 3s 3ms/step - loss: 0.1244 - root_mean_squared_error: 0.3526 - val_loss: 0.1249 - val_root_mean_squared_error: 0.3534\n",
            "Epoch 4/40\n",
            "981/981 [==============================] - 3s 3ms/step - loss: 0.1243 - root_mean_squared_error: 0.3526 - val_loss: 0.1249 - val_root_mean_squared_error: 0.3534\n",
            "Epoch 5/40\n",
            "981/981 [==============================] - 3s 3ms/step - loss: 0.1243 - root_mean_squared_error: 0.3525 - val_loss: 0.1253 - val_root_mean_squared_error: 0.3540\n",
            "Epoch 6/40\n",
            "981/981 [==============================] - 3s 3ms/step - loss: 0.1242 - root_mean_squared_error: 0.3524 - val_loss: 0.1250 - val_root_mean_squared_error: 0.3535\n",
            "Epoch 7/40\n",
            "981/981 [==============================] - 3s 3ms/step - loss: 0.1241 - root_mean_squared_error: 0.3523 - val_loss: 0.1250 - val_root_mean_squared_error: 0.3535\n",
            "Epoch 8/40\n",
            "981/981 [==============================] - 3s 3ms/step - loss: 0.1241 - root_mean_squared_error: 0.3523 - val_loss: 0.1250 - val_root_mean_squared_error: 0.3536\n",
            "Epoch 9/40\n",
            "981/981 [==============================] - 3s 3ms/step - loss: 0.1240 - root_mean_squared_error: 0.3522 - val_loss: 0.1254 - val_root_mean_squared_error: 0.3541\n",
            "Epoch 10/40\n",
            "981/981 [==============================] - 3s 3ms/step - loss: 0.1240 - root_mean_squared_error: 0.3521 - val_loss: 0.1250 - val_root_mean_squared_error: 0.3536\n",
            "Epoch 11/40\n",
            "981/981 [==============================] - 3s 3ms/step - loss: 0.1240 - root_mean_squared_error: 0.3521 - val_loss: 0.1250 - val_root_mean_squared_error: 0.3535\n",
            "Epoch 12/40\n",
            "981/981 [==============================] - 3s 3ms/step - loss: 0.1239 - root_mean_squared_error: 0.3520 - val_loss: 0.1252 - val_root_mean_squared_error: 0.3538\n",
            "Epoch 13/40\n",
            "981/981 [==============================] - 3s 3ms/step - loss: 0.1238 - root_mean_squared_error: 0.3519 - val_loss: 0.1251 - val_root_mean_squared_error: 0.3537\n",
            "Epoch 14/40\n",
            "981/981 [==============================] - 3s 3ms/step - loss: 0.1238 - root_mean_squared_error: 0.3518 - val_loss: 0.1251 - val_root_mean_squared_error: 0.3537\n",
            "Epoch 15/40\n",
            "981/981 [==============================] - 3s 3ms/step - loss: 0.1237 - root_mean_squared_error: 0.3518 - val_loss: 0.1251 - val_root_mean_squared_error: 0.3538\n",
            "Epoch 16/40\n",
            "981/981 [==============================] - 3s 3ms/step - loss: 0.1237 - root_mean_squared_error: 0.3517 - val_loss: 0.1252 - val_root_mean_squared_error: 0.3538\n",
            "Epoch 17/40\n",
            "981/981 [==============================] - 3s 3ms/step - loss: 0.1236 - root_mean_squared_error: 0.3516 - val_loss: 0.1252 - val_root_mean_squared_error: 0.3538\n",
            "Epoch 18/40\n",
            "981/981 [==============================] - 3s 3ms/step - loss: 0.1235 - root_mean_squared_error: 0.3515 - val_loss: 0.1253 - val_root_mean_squared_error: 0.3540\n",
            "Epoch 19/40\n",
            "981/981 [==============================] - 3s 3ms/step - loss: 0.1235 - root_mean_squared_error: 0.3514 - val_loss: 0.1253 - val_root_mean_squared_error: 0.3540\n",
            "Epoch 20/40\n",
            "981/981 [==============================] - 3s 3ms/step - loss: 0.1234 - root_mean_squared_error: 0.3513 - val_loss: 0.1255 - val_root_mean_squared_error: 0.3542\n",
            "Epoch 21/40\n",
            "981/981 [==============================] - 3s 3ms/step - loss: 0.1233 - root_mean_squared_error: 0.3512 - val_loss: 0.1255 - val_root_mean_squared_error: 0.3542\n",
            "Epoch 22/40\n",
            "981/981 [==============================] - 3s 3ms/step - loss: 0.1233 - root_mean_squared_error: 0.3511 - val_loss: 0.1255 - val_root_mean_squared_error: 0.3542\n",
            "Epoch 23/40\n",
            "981/981 [==============================] - 3s 3ms/step - loss: 0.1232 - root_mean_squared_error: 0.3510 - val_loss: 0.1254 - val_root_mean_squared_error: 0.3541\n",
            "Epoch 24/40\n",
            "981/981 [==============================] - 3s 3ms/step - loss: 0.1231 - root_mean_squared_error: 0.3509 - val_loss: 0.1254 - val_root_mean_squared_error: 0.3541\n",
            "Epoch 25/40\n",
            "981/981 [==============================] - 3s 3ms/step - loss: 0.1231 - root_mean_squared_error: 0.3508 - val_loss: 0.1256 - val_root_mean_squared_error: 0.3544\n",
            "Epoch 26/40\n",
            "981/981 [==============================] - 3s 3ms/step - loss: 0.1230 - root_mean_squared_error: 0.3508 - val_loss: 0.1258 - val_root_mean_squared_error: 0.3547\n",
            "Epoch 27/40\n",
            "981/981 [==============================] - 3s 3ms/step - loss: 0.1230 - root_mean_squared_error: 0.3507 - val_loss: 0.1257 - val_root_mean_squared_error: 0.3545\n",
            "Epoch 28/40\n",
            "981/981 [==============================] - 3s 3ms/step - loss: 0.1229 - root_mean_squared_error: 0.3506 - val_loss: 0.1257 - val_root_mean_squared_error: 0.3545\n",
            "Epoch 29/40\n",
            "981/981 [==============================] - 3s 3ms/step - loss: 0.1229 - root_mean_squared_error: 0.3505 - val_loss: 0.1257 - val_root_mean_squared_error: 0.3546\n",
            "Epoch 30/40\n",
            "981/981 [==============================] - 3s 3ms/step - loss: 0.1228 - root_mean_squared_error: 0.3505 - val_loss: 0.1262 - val_root_mean_squared_error: 0.3552\n",
            "Epoch 31/40\n",
            "981/981 [==============================] - 3s 3ms/step - loss: 0.1228 - root_mean_squared_error: 0.3504 - val_loss: 0.1257 - val_root_mean_squared_error: 0.3546\n",
            "Epoch 32/40\n",
            "981/981 [==============================] - 3s 3ms/step - loss: 0.1227 - root_mean_squared_error: 0.3503 - val_loss: 0.1261 - val_root_mean_squared_error: 0.3550\n",
            "Epoch 33/40\n",
            "981/981 [==============================] - 3s 3ms/step - loss: 0.1227 - root_mean_squared_error: 0.3503 - val_loss: 0.1259 - val_root_mean_squared_error: 0.3548\n",
            "Epoch 34/40\n",
            "981/981 [==============================] - 3s 3ms/step - loss: 0.1226 - root_mean_squared_error: 0.3502 - val_loss: 0.1263 - val_root_mean_squared_error: 0.3553\n",
            "Epoch 35/40\n",
            "981/981 [==============================] - 3s 3ms/step - loss: 0.1226 - root_mean_squared_error: 0.3502 - val_loss: 0.1265 - val_root_mean_squared_error: 0.3557\n",
            "Epoch 36/40\n",
            "981/981 [==============================] - 3s 3ms/step - loss: 0.1226 - root_mean_squared_error: 0.3501 - val_loss: 0.1265 - val_root_mean_squared_error: 0.3556\n",
            "Epoch 37/40\n",
            "981/981 [==============================] - 3s 3ms/step - loss: 0.1225 - root_mean_squared_error: 0.3500 - val_loss: 0.1263 - val_root_mean_squared_error: 0.3554\n",
            "Epoch 38/40\n",
            "981/981 [==============================] - 3s 3ms/step - loss: 0.1225 - root_mean_squared_error: 0.3500 - val_loss: 0.1262 - val_root_mean_squared_error: 0.3553\n",
            "Epoch 39/40\n",
            "981/981 [==============================] - 3s 3ms/step - loss: 0.1225 - root_mean_squared_error: 0.3499 - val_loss: 0.1264 - val_root_mean_squared_error: 0.3556\n",
            "Epoch 40/40\n",
            "981/981 [==============================] - 3s 3ms/step - loss: 0.1224 - root_mean_squared_error: 0.3499 - val_loss: 0.1263 - val_root_mean_squared_error: 0.3554\n"
          ],
          "name": "stdout"
        }
      ]
    },
    {
      "cell_type": "markdown",
      "metadata": {
        "id": "dxXQTyRFtZxo",
        "colab_type": "text"
      },
      "source": [
        "### Evaluating models 🔬"
      ]
    },
    {
      "cell_type": "code",
      "metadata": {
        "id": "sM563EctEM0g",
        "colab_type": "code",
        "colab": {
          "base_uri": "https://localhost:8080/",
          "height": 1000
        },
        "outputId": "fbce7fe8-a215-4c47-8455-772eb4cb45e1"
      },
      "source": [
        "%%time\n",
        "all_model_metrics = dict()\n",
        "for model_name in models:\n",
        "    \n",
        "    print(f\"\\n----{model_name}----\")\n",
        "    model_metrics = get_all_metrics(models[model_name], feature_names, fig_name = f\"{model_name}.png\")\n",
        "    all_model_metrics[model_name] = model_metrics\n",
        "\n",
        "    gc.collect()\n"
      ],
      "execution_count": 12,
      "outputs": [
        {
          "output_type": "stream",
          "text": [
            "\n",
            "----lin_reg----\n",
            "evaluating on training data...\n",
            "predicting on train...\n",
            "getting per era scores\n",
            "performance over time\n"
          ],
          "name": "stdout"
        },
        {
          "output_type": "display_data",
          "data": {
            "image/png": "[encoded data removed]",
            "text/plain": [
              "<Figure size 432x288 with 1 Axes>"
            ]
          },
          "metadata": {
            "tags": [],
            "needs_background": "light"
          }
        },
        {
          "output_type": "stream",
          "text": [
            "train_mean                0.499996\n",
            "train_std_dev             0.019592\n",
            "train_mean correlation    0.055647\n",
            "train_Std. Dev.           0.035655\n",
            "train_sharpe              1.560720\n",
            "dtype: float64\n",
            "evaluating on validation data...\n",
            "predicting on validation...\n",
            "getting per era scores\n",
            "performance over time\n"
          ],
          "name": "stdout"
        },
        {
          "output_type": "display_data",
          "data": {
            "image/png": "[encoded data removed]",
            "text/plain": [
              "<Figure size 432x288 with 1 Axes>"
            ]
          },
          "metadata": {
            "tags": [],
            "needs_background": "light"
          }
        },
        {
          "output_type": "stream",
          "text": [
            "val_mean                0.500000\n",
            "val_std_dev             0.019159\n",
            "val_mean correlation    0.016740\n",
            "val_Std. Dev.           0.035011\n",
            "val_sharpe              0.478136\n",
            "dtype: float64\n",
            "\n",
            "----keras_mlp_simple----\n",
            "evaluating on training data...\n",
            "predicting on train...\n",
            "getting per era scores\n",
            "performance over time\n"
          ],
          "name": "stdout"
        },
        {
          "output_type": "display_data",
          "data": {
            "image/png": "[encoded data removed]",
            "text/plain": [
              "<Figure size 432x288 with 1 Axes>"
            ]
          },
          "metadata": {
            "tags": [],
            "needs_background": "light"
          }
        },
        {
          "output_type": "stream",
          "text": [
            "train_mean                0.502195\n",
            "train_std_dev             0.044960\n",
            "train_mean correlation    0.121219\n",
            "train_Std. Dev.           0.026634\n",
            "train_sharpe              4.551188\n",
            "dtype: float64\n",
            "evaluating on validation data...\n",
            "predicting on validation...\n",
            "getting per era scores\n",
            "performance over time\n"
          ],
          "name": "stdout"
        },
        {
          "output_type": "display_data",
          "data": {
            "image/png": "[encoded data removed]",
            "text/plain": [
              "<Figure size 432x288 with 1 Axes>"
            ]
          },
          "metadata": {
            "tags": [],
            "needs_background": "light"
          }
        },
        {
          "output_type": "stream",
          "text": [
            "val_mean                0.503019\n",
            "val_std_dev             0.046358\n",
            "val_mean correlation    0.022915\n",
            "val_Std. Dev.           0.025959\n",
            "val_sharpe              0.882736\n",
            "dtype: float64\n",
            "CPU times: user 1min 19s, sys: 9.68 s, total: 1min 28s\n",
            "Wall time: 1min 11s\n"
          ],
          "name": "stdout"
        }
      ]
    },
    {
      "cell_type": "code",
      "metadata": {
        "id": "C98Yl9f-BglX",
        "colab_type": "code",
        "colab": {
          "base_uri": "https://localhost:8080/",
          "height": 363
        },
        "outputId": "fa7c01e6-2477-4e64-9a63-9c203bafd00f"
      },
      "source": [
        "metric_df = pd.DataFrame.from_dict(all_model_metrics)\n",
        "metric_df"
      ],
      "execution_count": 13,
      "outputs": [
        {
          "output_type": "execute_result",
          "data": {
            "text/html": [
              "<div>\n",
              "<style scoped>\n",
              "    .dataframe tbody tr th:only-of-type {\n",
              "        vertical-align: middle;\n",
              "    }\n",
              "\n",
              "    .dataframe tbody tr th {\n",
              "        vertical-align: top;\n",
              "    }\n",
              "\n",
              "    .dataframe thead th {\n",
              "        text-align: right;\n",
              "    }\n",
              "</style>\n",
              "<table border=\"1\" class=\"dataframe\">\n",
              "  <thead>\n",
              "    <tr style=\"text-align: right;\">\n",
              "      <th></th>\n",
              "      <th>lin_reg</th>\n",
              "      <th>keras_mlp_simple</th>\n",
              "    </tr>\n",
              "  </thead>\n",
              "  <tbody>\n",
              "    <tr>\n",
              "      <th>train_mean</th>\n",
              "      <td>0.499996</td>\n",
              "      <td>0.502195</td>\n",
              "    </tr>\n",
              "    <tr>\n",
              "      <th>train_std_dev</th>\n",
              "      <td>0.019592</td>\n",
              "      <td>0.044960</td>\n",
              "    </tr>\n",
              "    <tr>\n",
              "      <th>train_mean correlation</th>\n",
              "      <td>0.055647</td>\n",
              "      <td>0.121219</td>\n",
              "    </tr>\n",
              "    <tr>\n",
              "      <th>train_Std. Dev.</th>\n",
              "      <td>0.035655</td>\n",
              "      <td>0.026634</td>\n",
              "    </tr>\n",
              "    <tr>\n",
              "      <th>train_sharpe</th>\n",
              "      <td>1.560720</td>\n",
              "      <td>4.551188</td>\n",
              "    </tr>\n",
              "    <tr>\n",
              "      <th>val_mean</th>\n",
              "      <td>0.500000</td>\n",
              "      <td>0.503019</td>\n",
              "    </tr>\n",
              "    <tr>\n",
              "      <th>val_std_dev</th>\n",
              "      <td>0.019159</td>\n",
              "      <td>0.046358</td>\n",
              "    </tr>\n",
              "    <tr>\n",
              "      <th>val_mean correlation</th>\n",
              "      <td>0.016740</td>\n",
              "      <td>0.022915</td>\n",
              "    </tr>\n",
              "    <tr>\n",
              "      <th>val_Std. Dev.</th>\n",
              "      <td>0.035011</td>\n",
              "      <td>0.025959</td>\n",
              "    </tr>\n",
              "    <tr>\n",
              "      <th>val_sharpe</th>\n",
              "      <td>0.478136</td>\n",
              "      <td>0.882736</td>\n",
              "    </tr>\n",
              "  </tbody>\n",
              "</table>\n",
              "</div>"
            ],
            "text/plain": [
              "                         lin_reg  keras_mlp_simple\n",
              "train_mean              0.499996          0.502195\n",
              "train_std_dev           0.019592          0.044960\n",
              "train_mean correlation  0.055647          0.121219\n",
              "train_Std. Dev.         0.035655          0.026634\n",
              "train_sharpe            1.560720          4.551188\n",
              "val_mean                0.500000          0.503019\n",
              "val_std_dev             0.019159          0.046358\n",
              "val_mean correlation    0.016740          0.022915\n",
              "val_Std. Dev.           0.035011          0.025959\n",
              "val_sharpe              0.478136          0.882736"
            ]
          },
          "metadata": {
            "tags": []
          },
          "execution_count": 13
        }
      ]
    },
    {
      "cell_type": "markdown",
      "metadata": {
        "id": "fLl9fpob7kZp",
        "colab_type": "text"
      },
      "source": [
        "\n",
        "- **`val_mean_correlation`** suggests how much your predictions are correlated to targets across `era`\n",
        "- **`val_sharpe`** (mean/std) is for higher mean with lower std. dev.\n",
        "- **`tournament_corr_example_preds`** shows how much your predictions are correlated with `example_predictions` (which have shown very good performance)\n",
        "\n",
        "As you can see, Neural Net is showing better performance here based on these metrics. Now, let's compare Neural Net with default CatBoost model on more metrics\n"
      ]
    },
    {
      "cell_type": "markdown",
      "metadata": {
        "id": "B5wUBmelhyb6",
        "colab_type": "text"
      },
      "source": [
        "\n",
        "\n",
        "---\n",
        "\n",
        "## <center>Metrics used here</center>\n",
        "<p align=\"center\">\n",
        "  <img src=\"https://raw.githubusercontent.com/parmarsuraj99/numerai-guides/master/better_evaluation/images/all_metrics.png\" width=100%\">\n",
        "</p>"
      ]
    },
    {
      "cell_type": "markdown",
      "metadata": {
        "id": "wxzqRqTxQjGN",
        "colab_type": "text"
      },
      "source": [
        "## 2.2 Expanding the vision with more metrics 🔭\n",
        "\n",
        "---\n",
        "\n"
      ]
    },
    {
      "cell_type": "markdown",
      "metadata": {
        "id": "zvC0ylq15cdn",
        "colab_type": "text"
      },
      "source": [
        "Do check out [More Metrics for ya](https://forum.numer.ai/t/more-metrics-for-ya/636) for community discussion"
      ]
    },
    {
      "cell_type": "code",
      "metadata": {
        "id": "WInhlaAl60of",
        "colab_type": "code",
        "colab": {}
      },
      "source": [
        "TRAIN_EVAL_PREFIX = \"train\"\n",
        "VAL_EVAL_PREFIX = \"val\"\n",
        "\n",
        "#Some evaluation metrics\n",
        "def ar1(x):\n",
        "    return np.corrcoef(x[:-1], x[1:])[0,1]\n",
        "\n",
        "def autocorr_penalty(x):\n",
        "    n = len(x)\n",
        "    p = ar1(x)\n",
        "    return np.sqrt(1 + 2*np.sum([((n - i)/n)*p**i for i in range(1,n)]))\n",
        "\n",
        "def smart_sharpe(x):\n",
        "    return np.mean(x)/(np.std(x, ddof=1)*autocorr_penalty(x))\n",
        "\n",
        "def numerai_sharpe(x):\n",
        "    return ((np.mean(x) - 0.010415154) / np.std(x)) * np.sqrt(12)\n",
        "\n",
        "def spearmanr(target, pred):\n",
        "    return np.corrcoef(\n",
        "        target,\n",
        "        pred.rank(pct=True, method=\"first\")\n",
        "    )[0, 1]\n",
        "\n",
        "#-----------------------------------------------------\n",
        "def get_baisc_per_era_metrics(df:pd.DataFrame, \n",
        "                        isVal=None, \n",
        "                        fig_name=\"per_era_scores.png\") -> pd.Series:\n",
        "    \"\"\"\n",
        "    Some metrics related to per-era scores.\n",
        "    Plots per-era mean correlation with `TARGET_NAME` column\n",
        "\n",
        "    more metrics at: https://forum.numer.ai/t/more-metrics-for-ya/636\n",
        "\n",
        "    Parameters\n",
        "    ----------\n",
        "    df_with_preds : pd.DataFrame\n",
        "        Training or Toutnament DataFrame having predictions assigned\n",
        "        at `PREDICTION_NAME` column.\n",
        "\n",
        "    isVal: bool, optional, default:None\n",
        "        Indication of DataFrame having Validation data. However, the \n",
        "        function checks for this is `isVal=None`. Saves checking time!\n",
        "    \n",
        "    fig_name: str, optional, default:per_era_scores.png\n",
        "        Name for per-era correlation graph to be saved with extension.\n",
        "        prefix will be added to the file name based on `data_type`.\n",
        "    Returns:\n",
        "    ------\n",
        "    pd.Series: Pandas Series having per-era metriccs\n",
        "    \n",
        "    \"\"\"\n",
        "\n",
        "    prefix=None\n",
        "    scores = pd.Series(dtype=float)\n",
        "\n",
        "    preds_ = df[PREDICTION_NAME]\n",
        "    #Some checks for deciding between training and tournament data\n",
        "    if isVal:\n",
        "        scores[\"tournament_corr_example_preds\"] = spearmanr(preds_, example_preds[PREDICTION_NAME])\n",
        "        df = df[df.data_type == \"validation\"]\n",
        "        prefix=VAL_EVAL_PREFIX\n",
        "        print(\"predicting on validation...\")\n",
        "    else:\n",
        "        df = df\n",
        "        prefix=TRAIN_EVAL_PREFIX\n",
        "        print(\"predicting on train...\")\n",
        "\n",
        "    #-----------------------------------------------------\n",
        "\n",
        "    #Metric Calculations\n",
        "    print(\"getting per era scores\")\n",
        "    era_scores = df.groupby(\"era\").apply(\n",
        "        lambda x: spearmanr(x[TARGET_NAME], x[PREDICTION_NAME]))\n",
        "    \n",
        "    era_scores.sort_index(inplace=True)\n",
        "    era_scores.plot(kind=\"bar\")\n",
        "    print(\"performance over time\")\n",
        "    plt.savefig(f\"{prefix}_{fig_name}\")\n",
        "    plt.show()\n",
        "\n",
        "    #-----------------------------------------------------\n",
        "    \n",
        "    scores[f\"{prefix}_mean\"] = preds_.mean()\n",
        "    scores[f\"{prefix}_std_dev\"] = preds_.std()\n",
        "    scores[f\"{prefix}_less_than_half\"] = (preds_<0.5).mean()\n",
        "    scores[f\"{prefix}_less_than_mean\"] = (preds_<preds_.mean()).mean()\n",
        "\n",
        "    scores[f\"{prefix}_autocorrelation\"] = ar1(era_scores)\n",
        "    scores[f\"{prefix}_mean correlation\"] = np.mean(era_scores)\n",
        "    scores[f\"{prefix}_Median Correlation\"] = np.median(era_scores)\n",
        "    scores[f\"{prefix}_Variance\"] = np.var(era_scores)\n",
        "    scores[f\"{prefix}_Std. Dev.\"] = np.std(era_scores)\n",
        "    scores[f\"{prefix}_sharpe\"] = np.mean(era_scores)/np.std(era_scores)\n",
        "    scores[f\"{prefix}_smart sharpe\"] = smart_sharpe(era_scores)\n",
        "    scores[f\"{prefix}_Numerai sharpe\"] = numerai_sharpe(era_scores)\n",
        "\n",
        "    print(scores)\n",
        "    del era_scores\n",
        "    del preds_\n",
        "    gc.collect()\n",
        "    return scores\n"
      ],
      "execution_count": 14,
      "outputs": []
    },
    {
      "cell_type": "code",
      "metadata": {
        "id": "a9A4b0HQ60kq",
        "colab_type": "code",
        "colab": {}
      },
      "source": [
        "#inspired from https://forum.numer.ai/t/more-metrics-for-ya/636\n",
        "#and https://github.com/numerai/example-scripts/blob/master/era_boosting_example.ipynb\n",
        "#and help from `MikeP`\n",
        "\n",
        "def neutralize(df, columns, by, proportion=1.0):\n",
        "    scores = df[columns]\n",
        "    exposures = df[by].values\n",
        "    \n",
        "    # constant column to make sure the series is completely neutral to exposures\n",
        "    exposures = np.hstack((exposures, np.array([np.mean(scores)] * len(exposures)).reshape(-1, 1)))\n",
        "    gc.collect()\n",
        "    scores = scores - proportion * exposures.dot(np.linalg.pinv(exposures).dot(scores))\n",
        "    gc.collect()\n",
        "    return scores / scores.std()\n",
        "\n",
        "\n",
        "def calculate_feature_exposure(df, feature_names) -> list:\n",
        "    exposures = []\n",
        "    for feature_name in feature_names:\n",
        "        exposures.append(spearmanr(df[feature_name], df[PREDICTION_NAME]))\n",
        "        \n",
        "    max_feat_exposure = np.max(np.abs(exposures))\n",
        "    square_sum_feature_exposure = np.sum([e**2 for e in exposures])\n",
        "    feature_exposure = np.std(exposures)\n",
        "\n",
        "    #print(max_feat_exposure, square_sum_feature_exposure)\n",
        "\n",
        "    return [feature_exposure, max_feat_exposure, square_sum_feature_exposure]\n",
        "\n",
        "\n",
        "def get_more_metrics(df, feature_names, isVal=None) -> pd.Series:\n",
        "    \"\"\"\n",
        "    more metrics at: https://forum.numer.ai/t/more-metrics-for-ya/636\n",
        "\n",
        "    Returns basic stats about predictions in PREDICTION_NAME columns.\n",
        "    It checks for training or tournament and validation predictions\n",
        "\n",
        "    Args:\n",
        "    ------\n",
        "    df (pd.DataFrame): Training or Tournament DataFrame after assigning predictions\n",
        "    feature_names (list): List of features to use for neutralization. (Here, all)\n",
        "    isVal (bool): Boolean suggesting that df contains validation_data\n",
        "\n",
        "    Returns:\n",
        "    ------\n",
        "    pd.Series: Pandas Series having \n",
        "        (var, feature_neutral_mean, feat_exposure, max_feat_exposure, \n",
        "        square_sum_feature_exposure, max_drawdown)\n",
        "    \"\"\"\n",
        "\n",
        "    more_metrics = pd.Series(dtype=float)\n",
        "    metric_prefix=None\n",
        "    assert PREDICTION_NAME in df.columns\n",
        "\n",
        "    if isVal is None:\n",
        "        isVal = \"validation\" in df[\"data_type\"].unique() #max CPU times: user 65.1 ms\n",
        "\n",
        "    print(isVal)\n",
        "    if isVal:\n",
        "        df = df[df[\"data_type\"]==\"validation\"]\n",
        "        metric_prefix = VAL_EVAL_PREFIX\n",
        "    else:\n",
        "        metric_prefix = TRAIN_EVAL_PREFIX\n",
        "\n",
        "    assert metric_prefix is not None\n",
        "\n",
        "    #-----------------------------------------------------\n",
        "\n",
        "    #per-era scores\n",
        "    \"\"\"\n",
        "    per-era scores\n",
        "    \"\"\"\n",
        "    print(\"predicting per-era scores...\")\n",
        "    scores_per_era = df.groupby(\"era\").apply(\n",
        "        lambda df: spearmanr(df[PREDICTION_NAME], df[TARGET_NAME]))\n",
        "    \n",
        "    more_metrics[f\"{metric_prefix}_var\"] = scores_per_era.std()\n",
        "\n",
        "    #-----------------------------------------------------\n",
        "    \n",
        "    #Neutralize\n",
        "    #This takes a significant amount of memory for calculation\n",
        "    print(df.shape)\n",
        "    print(\"Neutralizing...\")\n",
        "    df[f\"neutral_{PREDICTION_NAME}\"] = neutralize(df, PREDICTION_NAME, feature_names)\n",
        "    feature_neutral_mean = df.groupby(\"era\").apply(\n",
        "        lambda x: spearmanr(x[\"neutral_\"+PREDICTION_NAME].values, x[TARGET_NAME])).mean()\n",
        "\n",
        "    more_metrics[f\"{metric_prefix}_feature_neutral_mean\"] = feature_neutral_mean\n",
        "    gc.collect()\n",
        "\n",
        "    #-----------------------------------------------------\n",
        "    print(\"Calculating Feature Exposure...\")\n",
        "    feature_exposure, max_feat_exposure, square_sum_feature_exposure = calculate_feature_exposure(df, feature_names)\n",
        "\n",
        "    more_metrics[f\"{metric_prefix}_feat_exposure\"] = feature_exposure\n",
        "    more_metrics[f\"{metric_prefix}_max_feat_exposure\"] = max_feat_exposure\n",
        "    more_metrics[f\"{metric_prefix}_square_sum_feature_exposure\"] = square_sum_feature_exposure\n",
        "\n",
        "\n",
        "    #-----------------------------------------------------\n",
        "    print(\"Drawdown...\")\n",
        "    rolling_max = (scores_per_era+1).cumprod().rolling(window=100, min_periods=1).max()\n",
        "    daily_value = (scores_per_era+1).cumprod()\n",
        "    max_drawdown = (rolling_max - daily_value).max()\n",
        "\n",
        "    more_metrics[f\"{metric_prefix}_max_drawdown\"] = max_drawdown\n",
        "\n",
        "    return more_metrics"
      ],
      "execution_count": 15,
      "outputs": []
    },
    {
      "cell_type": "code",
      "metadata": {
        "id": "wp9Gyg52DL6G",
        "colab_type": "code",
        "colab": {}
      },
      "source": [
        "def get_all_metrics(model, \n",
        "                    feature_names:list=feature_names, \n",
        "                    fig_name=\"per_era_scores\")->pd.Series:\n",
        "\n",
        "    training_preds = model.predict(training_data[feature_names].values)\n",
        "    training_data[PREDICTION_NAME] = np.array(training_preds).reshape(-1,1)\n",
        "\n",
        "    tournament_preds = model.predict(tournament_data[feature_names].values)\n",
        "    tournament_data[PREDICTION_NAME] = np.array(tournament_preds).reshape(-1,1)\n",
        "\n",
        "    del training_preds\n",
        "    del tournament_preds\n",
        "\n",
        "    print(\"evaluating on training data...\")\n",
        "    tr_per_era_scores = get_baisc_per_era_metrics(training_data, isVal=False, fig_name=fig_name)\n",
        "    tr_more_metrics = get_more_metrics(training_data, feature_names ,isVal=False)\n",
        "    gc.collect()\n",
        "\n",
        "    print(\"evaluating on validation data...\")\n",
        "    val_per_era_scores = get_baisc_per_era_metrics(tournament_data, isVal=True, fig_name=fig_name)\n",
        "    val_more_metrics = get_more_metrics(tournament_data, feature_names ,isVal=True)\n",
        "    gc.collect()\n",
        "\n",
        "    return pd.concat([\n",
        "                      tr_per_era_scores, val_per_era_scores,\n",
        "                      tr_more_metrics, val_more_metrics,\n",
        "                      ])\n",
        "\n"
      ],
      "execution_count": 16,
      "outputs": []
    },
    {
      "cell_type": "markdown",
      "metadata": {
        "id": "vM6A6I2f0mCE",
        "colab_type": "text"
      },
      "source": [
        "### Creating some models 🤖"
      ]
    },
    {
      "cell_type": "code",
      "metadata": {
        "id": "j0Kl9Ov0BVRH",
        "colab_type": "code",
        "colab": {
          "base_uri": "https://localhost:8080/",
          "height": 35
        },
        "outputId": "1ddf72f4-939e-4dab-f1cb-0d7a76c9a33c"
      },
      "source": [
        "models = dict()\n",
        "\n",
        "#CatBoost Regressor\n",
        "cat_reg_params = {\n",
        "    'task_type': 'GPU'\n",
        "    }\n",
        "cat_regressor = CatBoostRegressor(**cat_reg_params)\n",
        "models[\"cat_reg\"] = cat_regressor\n",
        "\n",
        "#Neural Net\n",
        "nn_model = tf.keras.models.Sequential([\n",
        "                                       tf.keras.layers.Input(shape=(310,)),\n",
        "                                       tf.keras.layers.Dense(64, activation=\"relu\"),\n",
        "                                       tf.keras.layers.Dense(1, activation=\"sigmoid\")\n",
        "])\n",
        "nn_model.compile(loss=\"mse\", optimizer=\"adam\", metrics = [tf.keras.metrics.RootMeanSquaredError()])\n",
        "\n",
        "models[\"keras_mlp_simple\"] = nn_model\n",
        "\n",
        "del cat_regressor\n",
        "del nn_model\n",
        "gc.collect()"
      ],
      "execution_count": 17,
      "outputs": [
        {
          "output_type": "execute_result",
          "data": {
            "text/plain": [
              "5207"
            ]
          },
          "metadata": {
            "tags": []
          },
          "execution_count": 17
        }
      ]
    },
    {
      "cell_type": "markdown",
      "metadata": {
        "colab_type": "text",
        "id": "f7bnWnEIV3Zx"
      },
      "source": [
        "### Training our models⚙️"
      ]
    },
    {
      "cell_type": "code",
      "metadata": {
        "id": "_D3jvshpC3hW",
        "colab_type": "code",
        "colab": {}
      },
      "source": [
        "for model_name in models:\n",
        "    print(f\"Fitting {model_name}...\")\n",
        "\n",
        "    if \"keras\" in model_name:\n",
        "        models[model_name].fit(training_data[feature_names].values, training_data[TARGET_NAME].values, \n",
        "             batch_size=512, \n",
        "             epochs=40,\n",
        "             validation_data=(validation_data[feature_names].values, validation_data[TARGET_NAME].values),\n",
        "             )\n",
        "    else:\n",
        "        models[model_name].fit(training_data[feature_names].values, training_data[TARGET_NAME].values)\n",
        "\n",
        "    gc.collect()"
      ],
      "execution_count": null,
      "outputs": []
    },
    {
      "cell_type": "markdown",
      "metadata": {
        "id": "gCru_1GHtlqz",
        "colab_type": "text"
      },
      "source": [
        "### Evaluating models 🔭"
      ]
    },
    {
      "cell_type": "code",
      "metadata": {
        "id": "kOM9QWZ1J7aZ",
        "colab_type": "code",
        "colab": {
          "base_uri": "https://localhost:8080/",
          "height": 1000
        },
        "outputId": "bb8d8f04-70a7-4e94-970a-71d469b92746"
      },
      "source": [
        "%%time\n",
        "all_model_metrics = dict()\n",
        "for model_name in models:\n",
        "    \n",
        "    print(f\"\\n----{model_name}----\")\n",
        "    model_metrics = get_all_metrics(models[model_name], feature_names, fig_name = f\"{model_name}.png\")\n",
        "    all_model_metrics[model_name] = model_metrics\n",
        "    \n",
        "    gc.collect()\n",
        "    "
      ],
      "execution_count": 19,
      "outputs": [
        {
          "output_type": "stream",
          "text": [
            "\n",
            "----cat_reg----\n",
            "evaluating on training data...\n",
            "predicting on train...\n",
            "getting per era scores\n",
            "performance over time\n"
          ],
          "name": "stdout"
        },
        {
          "output_type": "display_data",
          "data": {
            "image/png": "[encoded data removed]",
            "text/plain": [
              "<Figure size 432x288 with 1 Axes>"
            ]
          },
          "metadata": {
            "tags": [],
            "needs_background": "light"
          }
        },
        {
          "output_type": "stream",
          "text": [
            "train_mean                  0.500004\n",
            "train_std_dev               0.013688\n",
            "train_less_than_half        0.504450\n",
            "train_less_than_mean        0.504573\n",
            "train_autocorrelation       0.150417\n",
            "train_mean correlation      0.095063\n",
            "train_Median Correlation    0.095320\n",
            "train_Variance              0.001037\n",
            "train_Std. Dev.             0.032201\n",
            "train_sharpe                2.952130\n",
            "train_smart sharpe          2.529595\n",
            "train_Numerai sharpe        9.106056\n",
            "dtype: float64\n",
            "False\n",
            "predicting per-era scores...\n",
            "(501808, 314)\n",
            "Neutralizing...\n"
          ],
          "name": "stdout"
        },
        {
          "output_type": "stream",
          "text": [
            "2020-08-31 18:50:41,001 INFO numexpr.utils: NumExpr defaulting to 2 threads.\n"
          ],
          "name": "stderr"
        },
        {
          "output_type": "stream",
          "text": [
            "Calculating Feature Exposure...\n",
            "Drawdown...\n",
            "evaluating on validation data...\n",
            "predicting on validation...\n",
            "getting per era scores\n",
            "performance over time\n"
          ],
          "name": "stdout"
        },
        {
          "output_type": "display_data",
          "data": {
            "image/png": "[encoded data removed]",
            "text/plain": [
              "<Figure size 432x288 with 1 Axes>"
            ]
          },
          "metadata": {
            "tags": [],
            "needs_background": "light"
          }
        },
        {
          "output_type": "stream",
          "text": [
            "tournament_corr_example_preds    0.608426\n",
            "val_mean                         0.500160\n",
            "val_std_dev                      0.013713\n",
            "val_less_than_half               0.502131\n",
            "val_less_than_mean               0.506979\n",
            "val_autocorrelation              0.100184\n",
            "val_mean correlation             0.014060\n",
            "val_Median Correlation           0.017579\n",
            "val_Variance                     0.000645\n",
            "val_Std. Dev.                    0.025396\n",
            "val_sharpe                       0.553623\n",
            "val_smart sharpe                 0.491432\n",
            "val_Numerai sharpe               0.497158\n",
            "dtype: float64\n",
            "True\n",
            "predicting per-era scores...\n",
            "(106895, 314)\n",
            "Neutralizing...\n"
          ],
          "name": "stdout"
        },
        {
          "output_type": "stream",
          "text": [
            "/usr/local/lib/python3.6/dist-packages/ipykernel_launcher.py:84: SettingWithCopyWarning: \n",
            "A value is trying to be set on a copy of a slice from a DataFrame.\n",
            "Try using .loc[row_indexer,col_indexer] = value instead\n",
            "\n",
            "See the caveats in the documentation: https://pandas.pydata.org/pandas-docs/stable/user_guide/indexing.html#returning-a-view-versus-a-copy\n"
          ],
          "name": "stderr"
        },
        {
          "output_type": "stream",
          "text": [
            "Calculating Feature Exposure...\n",
            "Drawdown...\n",
            "\n",
            "----keras_mlp_simple----\n",
            "evaluating on training data...\n",
            "predicting on train...\n",
            "getting per era scores\n",
            "performance over time\n"
          ],
          "name": "stdout"
        },
        {
          "output_type": "display_data",
          "data": {
            "image/png": "[encoded data removed]",
            "text/plain": [
              "<Figure size 432x288 with 1 Axes>"
            ]
          },
          "metadata": {
            "tags": [],
            "needs_background": "light"
          }
        },
        {
          "output_type": "stream",
          "text": [
            "train_mean                   0.505076\n",
            "train_std_dev                0.046424\n",
            "train_less_than_half         0.447259\n",
            "train_less_than_mean         0.517493\n",
            "train_autocorrelation        0.043250\n",
            "train_mean correlation       0.125611\n",
            "train_Median Correlation     0.126724\n",
            "train_Variance               0.000635\n",
            "train_Std. Dev.              0.025201\n",
            "train_sharpe                 4.984409\n",
            "train_smart sharpe           4.755088\n",
            "train_Numerai sharpe        15.834826\n",
            "dtype: float64\n",
            "False\n",
            "predicting per-era scores...\n",
            "(501808, 315)\n",
            "Neutralizing...\n",
            "Calculating Feature Exposure...\n",
            "Drawdown...\n",
            "evaluating on validation data...\n",
            "predicting on validation...\n",
            "getting per era scores\n",
            "performance over time\n"
          ],
          "name": "stdout"
        },
        {
          "output_type": "display_data",
          "data": {
            "image/png": "[encoded data removed]",
            "text/plain": [
              "<Figure size 432x288 with 1 Axes>"
            ]
          },
          "metadata": {
            "tags": [],
            "needs_background": "light"
          }
        },
        {
          "output_type": "stream",
          "text": [
            "tournament_corr_example_preds    0.423611\n",
            "val_mean                         0.506616\n",
            "val_std_dev                      0.048278\n",
            "val_less_than_half               0.440780\n",
            "val_less_than_mean               0.531918\n",
            "val_autocorrelation              0.193405\n",
            "val_mean correlation             0.021117\n",
            "val_Median Correlation           0.021535\n",
            "val_Variance                     0.000584\n",
            "val_Std. Dev.                    0.024174\n",
            "val_sharpe                       0.873550\n",
            "val_smart sharpe                 0.708146\n",
            "val_Numerai sharpe               1.533605\n",
            "dtype: float64\n",
            "True\n",
            "predicting per-era scores...\n",
            "(106895, 314)\n",
            "Neutralizing...\n",
            "Calculating Feature Exposure...\n",
            "Drawdown...\n",
            "CPU times: user 6min 33s, sys: 18 s, total: 6min 51s\n",
            "Wall time: 5min 22s\n"
          ],
          "name": "stdout"
        }
      ]
    },
    {
      "cell_type": "code",
      "metadata": {
        "id": "y8_GL_WXJ7VZ",
        "colab_type": "code",
        "colab": {
          "base_uri": "https://localhost:8080/",
          "height": 1000
        },
        "outputId": "68a372fb-f751-463d-f1f1-387d722666be"
      },
      "source": [
        "metric_df = pd.DataFrame.from_dict(all_model_metrics)\n",
        "metric_df"
      ],
      "execution_count": 21,
      "outputs": [
        {
          "output_type": "execute_result",
          "data": {
            "text/html": [
              "<div>\n",
              "<style scoped>\n",
              "    .dataframe tbody tr th:only-of-type {\n",
              "        vertical-align: middle;\n",
              "    }\n",
              "\n",
              "    .dataframe tbody tr th {\n",
              "        vertical-align: top;\n",
              "    }\n",
              "\n",
              "    .dataframe thead th {\n",
              "        text-align: right;\n",
              "    }\n",
              "</style>\n",
              "<table border=\"1\" class=\"dataframe\">\n",
              "  <thead>\n",
              "    <tr style=\"text-align: right;\">\n",
              "      <th></th>\n",
              "      <th>cat_reg</th>\n",
              "      <th>keras_mlp_simple</th>\n",
              "    </tr>\n",
              "  </thead>\n",
              "  <tbody>\n",
              "    <tr>\n",
              "      <th>train_mean</th>\n",
              "      <td>0.500004</td>\n",
              "      <td>0.505076</td>\n",
              "    </tr>\n",
              "    <tr>\n",
              "      <th>train_std_dev</th>\n",
              "      <td>0.013688</td>\n",
              "      <td>0.046424</td>\n",
              "    </tr>\n",
              "    <tr>\n",
              "      <th>train_less_than_half</th>\n",
              "      <td>0.504450</td>\n",
              "      <td>0.447259</td>\n",
              "    </tr>\n",
              "    <tr>\n",
              "      <th>train_less_than_mean</th>\n",
              "      <td>0.504573</td>\n",
              "      <td>0.517493</td>\n",
              "    </tr>\n",
              "    <tr>\n",
              "      <th>train_autocorrelation</th>\n",
              "      <td>0.150417</td>\n",
              "      <td>0.043250</td>\n",
              "    </tr>\n",
              "    <tr>\n",
              "      <th>train_mean correlation</th>\n",
              "      <td>0.095063</td>\n",
              "      <td>0.125611</td>\n",
              "    </tr>\n",
              "    <tr>\n",
              "      <th>train_Median Correlation</th>\n",
              "      <td>0.095320</td>\n",
              "      <td>0.126724</td>\n",
              "    </tr>\n",
              "    <tr>\n",
              "      <th>train_Variance</th>\n",
              "      <td>0.001037</td>\n",
              "      <td>0.000635</td>\n",
              "    </tr>\n",
              "    <tr>\n",
              "      <th>train_Std. Dev.</th>\n",
              "      <td>0.032201</td>\n",
              "      <td>0.025201</td>\n",
              "    </tr>\n",
              "    <tr>\n",
              "      <th>train_sharpe</th>\n",
              "      <td>2.952130</td>\n",
              "      <td>4.984409</td>\n",
              "    </tr>\n",
              "    <tr>\n",
              "      <th>train_smart sharpe</th>\n",
              "      <td>2.529595</td>\n",
              "      <td>4.755088</td>\n",
              "    </tr>\n",
              "    <tr>\n",
              "      <th>train_Numerai sharpe</th>\n",
              "      <td>9.106056</td>\n",
              "      <td>15.834826</td>\n",
              "    </tr>\n",
              "    <tr>\n",
              "      <th>tournament_corr_example_preds</th>\n",
              "      <td>0.608426</td>\n",
              "      <td>0.423611</td>\n",
              "    </tr>\n",
              "    <tr>\n",
              "      <th>val_mean</th>\n",
              "      <td>0.500160</td>\n",
              "      <td>0.506616</td>\n",
              "    </tr>\n",
              "    <tr>\n",
              "      <th>val_std_dev</th>\n",
              "      <td>0.013713</td>\n",
              "      <td>0.048278</td>\n",
              "    </tr>\n",
              "    <tr>\n",
              "      <th>val_less_than_half</th>\n",
              "      <td>0.502131</td>\n",
              "      <td>0.440780</td>\n",
              "    </tr>\n",
              "    <tr>\n",
              "      <th>val_less_than_mean</th>\n",
              "      <td>0.506979</td>\n",
              "      <td>0.531918</td>\n",
              "    </tr>\n",
              "    <tr>\n",
              "      <th>val_autocorrelation</th>\n",
              "      <td>0.100184</td>\n",
              "      <td>0.193405</td>\n",
              "    </tr>\n",
              "    <tr>\n",
              "      <th>val_mean correlation</th>\n",
              "      <td>0.014060</td>\n",
              "      <td>0.021117</td>\n",
              "    </tr>\n",
              "    <tr>\n",
              "      <th>val_Median Correlation</th>\n",
              "      <td>0.017579</td>\n",
              "      <td>0.021535</td>\n",
              "    </tr>\n",
              "    <tr>\n",
              "      <th>val_Variance</th>\n",
              "      <td>0.000645</td>\n",
              "      <td>0.000584</td>\n",
              "    </tr>\n",
              "    <tr>\n",
              "      <th>val_Std. Dev.</th>\n",
              "      <td>0.025396</td>\n",
              "      <td>0.024174</td>\n",
              "    </tr>\n",
              "    <tr>\n",
              "      <th>val_sharpe</th>\n",
              "      <td>0.553623</td>\n",
              "      <td>0.873550</td>\n",
              "    </tr>\n",
              "    <tr>\n",
              "      <th>val_smart sharpe</th>\n",
              "      <td>0.491432</td>\n",
              "      <td>0.708146</td>\n",
              "    </tr>\n",
              "    <tr>\n",
              "      <th>val_Numerai sharpe</th>\n",
              "      <td>0.497158</td>\n",
              "      <td>1.533605</td>\n",
              "    </tr>\n",
              "    <tr>\n",
              "      <th>train_var</th>\n",
              "      <td>0.031201</td>\n",
              "      <td>0.018939</td>\n",
              "    </tr>\n",
              "    <tr>\n",
              "      <th>train_feature_neutral_mean</th>\n",
              "      <td>0.093683</td>\n",
              "      <td>0.133873</td>\n",
              "    </tr>\n",
              "    <tr>\n",
              "      <th>train_feat_exposure</th>\n",
              "      <td>0.085503</td>\n",
              "      <td>0.054843</td>\n",
              "    </tr>\n",
              "    <tr>\n",
              "      <th>train_max_feat_exposure</th>\n",
              "      <td>0.231900</td>\n",
              "      <td>0.181203</td>\n",
              "    </tr>\n",
              "    <tr>\n",
              "      <th>train_square_sum_feature_exposure</th>\n",
              "      <td>3.264125</td>\n",
              "      <td>1.022341</td>\n",
              "    </tr>\n",
              "    <tr>\n",
              "      <th>train_max_drawdown</th>\n",
              "      <td>0.000000</td>\n",
              "      <td>0.000000</td>\n",
              "    </tr>\n",
              "    <tr>\n",
              "      <th>val_var</th>\n",
              "      <td>0.024878</td>\n",
              "      <td>0.017104</td>\n",
              "    </tr>\n",
              "    <tr>\n",
              "      <th>val_feature_neutral_mean</th>\n",
              "      <td>0.005357</td>\n",
              "      <td>0.010660</td>\n",
              "    </tr>\n",
              "    <tr>\n",
              "      <th>val_feat_exposure</th>\n",
              "      <td>0.083209</td>\n",
              "      <td>0.055755</td>\n",
              "    </tr>\n",
              "    <tr>\n",
              "      <th>val_max_feat_exposure</th>\n",
              "      <td>0.222322</td>\n",
              "      <td>0.236727</td>\n",
              "    </tr>\n",
              "    <tr>\n",
              "      <th>val_square_sum_feature_exposure</th>\n",
              "      <td>2.900952</td>\n",
              "      <td>0.995396</td>\n",
              "    </tr>\n",
              "    <tr>\n",
              "      <th>val_max_drawdown</th>\n",
              "      <td>0.078326</td>\n",
              "      <td>0.022334</td>\n",
              "    </tr>\n",
              "  </tbody>\n",
              "</table>\n",
              "</div>"
            ],
            "text/plain": [
              "                                    cat_reg  keras_mlp_simple\n",
              "train_mean                         0.500004          0.505076\n",
              "train_std_dev                      0.013688          0.046424\n",
              "train_less_than_half               0.504450          0.447259\n",
              "train_less_than_mean               0.504573          0.517493\n",
              "train_autocorrelation              0.150417          0.043250\n",
              "train_mean correlation             0.095063          0.125611\n",
              "train_Median Correlation           0.095320          0.126724\n",
              "train_Variance                     0.001037          0.000635\n",
              "train_Std. Dev.                    0.032201          0.025201\n",
              "train_sharpe                       2.952130          4.984409\n",
              "train_smart sharpe                 2.529595          4.755088\n",
              "train_Numerai sharpe               9.106056         15.834826\n",
              "tournament_corr_example_preds      0.608426          0.423611\n",
              "val_mean                           0.500160          0.506616\n",
              "val_std_dev                        0.013713          0.048278\n",
              "val_less_than_half                 0.502131          0.440780\n",
              "val_less_than_mean                 0.506979          0.531918\n",
              "val_autocorrelation                0.100184          0.193405\n",
              "val_mean correlation               0.014060          0.021117\n",
              "val_Median Correlation             0.017579          0.021535\n",
              "val_Variance                       0.000645          0.000584\n",
              "val_Std. Dev.                      0.025396          0.024174\n",
              "val_sharpe                         0.553623          0.873550\n",
              "val_smart sharpe                   0.491432          0.708146\n",
              "val_Numerai sharpe                 0.497158          1.533605\n",
              "train_var                          0.031201          0.018939\n",
              "train_feature_neutral_mean         0.093683          0.133873\n",
              "train_feat_exposure                0.085503          0.054843\n",
              "train_max_feat_exposure            0.231900          0.181203\n",
              "train_square_sum_feature_exposure  3.264125          1.022341\n",
              "train_max_drawdown                 0.000000          0.000000\n",
              "val_var                            0.024878          0.017104\n",
              "val_feature_neutral_mean           0.005357          0.010660\n",
              "val_feat_exposure                  0.083209          0.055755\n",
              "val_max_feat_exposure              0.222322          0.236727\n",
              "val_square_sum_feature_exposure    2.900952          0.995396\n",
              "val_max_drawdown                   0.078326          0.022334"
            ]
          },
          "metadata": {
            "tags": []
          },
          "execution_count": 21
        }
      ]
    },
    {
      "cell_type": "markdown",
      "metadata": {
        "id": "lrjnNHXO5GXz",
        "colab_type": "text"
      },
      "source": [
        "### Let's Compare these models aginst `example_predictions`"
      ]
    },
    {
      "cell_type": "code",
      "metadata": {
        "id": "Wi7LlKkwwO96",
        "colab_type": "code",
        "colab": {}
      },
      "source": [
        "tournament_data[PREDICTION_NAME] = example_preds.values.reshape(-1, 1)\n",
        "\n",
        "example_val_per_era_scores = get_baisc_per_era_metrics(tournament_data, isVal=True, fig_name=\"example_preds\")\n",
        "example_val_more_metrics = get_more_metrics(tournament_data, feature_names ,isVal=True)\n",
        "\n",
        "example_preds_metrics = pd.concat([example_val_per_era_scores, example_val_more_metrics])"
      ],
      "execution_count": 31,
      "outputs": []
    },
    {
      "cell_type": "code",
      "metadata": {
        "id": "UqB0H44FxrHm",
        "colab_type": "code",
        "colab": {}
      },
      "source": [
        "metric_df[\"example_preds\"] = example_preds_metrics"
      ],
      "execution_count": 34,
      "outputs": []
    },
    {
      "cell_type": "code",
      "metadata": {
        "id": "VbfpTa6y43Zg",
        "colab_type": "code",
        "colab": {
          "base_uri": "https://localhost:8080/",
          "height": 1000
        },
        "outputId": "8ab3952f-c578-4896-adc8-47399a3226a5"
      },
      "source": [
        "metric_df"
      ],
      "execution_count": 35,
      "outputs": [
        {
          "output_type": "execute_result",
          "data": {
            "text/html": [
              "<div>\n",
              "<style scoped>\n",
              "    .dataframe tbody tr th:only-of-type {\n",
              "        vertical-align: middle;\n",
              "    }\n",
              "\n",
              "    .dataframe tbody tr th {\n",
              "        vertical-align: top;\n",
              "    }\n",
              "\n",
              "    .dataframe thead th {\n",
              "        text-align: right;\n",
              "    }\n",
              "</style>\n",
              "<table border=\"1\" class=\"dataframe\">\n",
              "  <thead>\n",
              "    <tr style=\"text-align: right;\">\n",
              "      <th></th>\n",
              "      <th>cat_reg</th>\n",
              "      <th>keras_mlp_simple</th>\n",
              "      <th>example_preds</th>\n",
              "    </tr>\n",
              "  </thead>\n",
              "  <tbody>\n",
              "    <tr>\n",
              "      <th>train_mean</th>\n",
              "      <td>0.500004</td>\n",
              "      <td>0.505076</td>\n",
              "      <td>NaN</td>\n",
              "    </tr>\n",
              "    <tr>\n",
              "      <th>train_std_dev</th>\n",
              "      <td>0.013688</td>\n",
              "      <td>0.046424</td>\n",
              "      <td>NaN</td>\n",
              "    </tr>\n",
              "    <tr>\n",
              "      <th>train_less_than_half</th>\n",
              "      <td>0.504450</td>\n",
              "      <td>0.447259</td>\n",
              "      <td>NaN</td>\n",
              "    </tr>\n",
              "    <tr>\n",
              "      <th>train_less_than_mean</th>\n",
              "      <td>0.504573</td>\n",
              "      <td>0.517493</td>\n",
              "      <td>NaN</td>\n",
              "    </tr>\n",
              "    <tr>\n",
              "      <th>train_autocorrelation</th>\n",
              "      <td>0.150417</td>\n",
              "      <td>0.043250</td>\n",
              "      <td>NaN</td>\n",
              "    </tr>\n",
              "    <tr>\n",
              "      <th>train_mean correlation</th>\n",
              "      <td>0.095063</td>\n",
              "      <td>0.125611</td>\n",
              "      <td>NaN</td>\n",
              "    </tr>\n",
              "    <tr>\n",
              "      <th>train_Median Correlation</th>\n",
              "      <td>0.095320</td>\n",
              "      <td>0.126724</td>\n",
              "      <td>NaN</td>\n",
              "    </tr>\n",
              "    <tr>\n",
              "      <th>train_Variance</th>\n",
              "      <td>0.001037</td>\n",
              "      <td>0.000635</td>\n",
              "      <td>NaN</td>\n",
              "    </tr>\n",
              "    <tr>\n",
              "      <th>train_Std. Dev.</th>\n",
              "      <td>0.032201</td>\n",
              "      <td>0.025201</td>\n",
              "      <td>NaN</td>\n",
              "    </tr>\n",
              "    <tr>\n",
              "      <th>train_sharpe</th>\n",
              "      <td>2.952130</td>\n",
              "      <td>4.984409</td>\n",
              "      <td>NaN</td>\n",
              "    </tr>\n",
              "    <tr>\n",
              "      <th>train_smart sharpe</th>\n",
              "      <td>2.529595</td>\n",
              "      <td>4.755088</td>\n",
              "      <td>NaN</td>\n",
              "    </tr>\n",
              "    <tr>\n",
              "      <th>train_Numerai sharpe</th>\n",
              "      <td>9.106056</td>\n",
              "      <td>15.834826</td>\n",
              "      <td>NaN</td>\n",
              "    </tr>\n",
              "    <tr>\n",
              "      <th>tournament_corr_example_preds</th>\n",
              "      <td>0.608426</td>\n",
              "      <td>0.423611</td>\n",
              "      <td>0.975926</td>\n",
              "    </tr>\n",
              "    <tr>\n",
              "      <th>val_mean</th>\n",
              "      <td>0.500160</td>\n",
              "      <td>0.506616</td>\n",
              "      <td>0.500386</td>\n",
              "    </tr>\n",
              "    <tr>\n",
              "      <th>val_std_dev</th>\n",
              "      <td>0.013713</td>\n",
              "      <td>0.048278</td>\n",
              "      <td>0.020705</td>\n",
              "    </tr>\n",
              "    <tr>\n",
              "      <th>val_less_than_half</th>\n",
              "      <td>0.502131</td>\n",
              "      <td>0.440780</td>\n",
              "      <td>0.499385</td>\n",
              "    </tr>\n",
              "    <tr>\n",
              "      <th>val_less_than_mean</th>\n",
              "      <td>0.506979</td>\n",
              "      <td>0.531918</td>\n",
              "      <td>0.506973</td>\n",
              "    </tr>\n",
              "    <tr>\n",
              "      <th>val_autocorrelation</th>\n",
              "      <td>0.100184</td>\n",
              "      <td>0.193405</td>\n",
              "      <td>0.017951</td>\n",
              "    </tr>\n",
              "    <tr>\n",
              "      <th>val_mean correlation</th>\n",
              "      <td>0.014060</td>\n",
              "      <td>0.021117</td>\n",
              "      <td>0.028878</td>\n",
              "    </tr>\n",
              "    <tr>\n",
              "      <th>val_Median Correlation</th>\n",
              "      <td>0.017579</td>\n",
              "      <td>0.021535</td>\n",
              "      <td>0.028988</td>\n",
              "    </tr>\n",
              "    <tr>\n",
              "      <th>val_Variance</th>\n",
              "      <td>0.000645</td>\n",
              "      <td>0.000584</td>\n",
              "      <td>0.000907</td>\n",
              "    </tr>\n",
              "    <tr>\n",
              "      <th>val_Std. Dev.</th>\n",
              "      <td>0.025396</td>\n",
              "      <td>0.024174</td>\n",
              "      <td>0.030119</td>\n",
              "    </tr>\n",
              "    <tr>\n",
              "      <th>val_sharpe</th>\n",
              "      <td>0.553623</td>\n",
              "      <td>0.873550</td>\n",
              "      <td>0.958771</td>\n",
              "    </tr>\n",
              "    <tr>\n",
              "      <th>val_smart sharpe</th>\n",
              "      <td>0.491432</td>\n",
              "      <td>0.708146</td>\n",
              "      <td>0.920812</td>\n",
              "    </tr>\n",
              "    <tr>\n",
              "      <th>val_Numerai sharpe</th>\n",
              "      <td>0.497158</td>\n",
              "      <td>1.533605</td>\n",
              "      <td>2.123407</td>\n",
              "    </tr>\n",
              "    <tr>\n",
              "      <th>train_var</th>\n",
              "      <td>0.031201</td>\n",
              "      <td>0.018939</td>\n",
              "      <td>NaN</td>\n",
              "    </tr>\n",
              "    <tr>\n",
              "      <th>train_feature_neutral_mean</th>\n",
              "      <td>0.093683</td>\n",
              "      <td>0.133873</td>\n",
              "      <td>NaN</td>\n",
              "    </tr>\n",
              "    <tr>\n",
              "      <th>train_feat_exposure</th>\n",
              "      <td>0.085503</td>\n",
              "      <td>0.054843</td>\n",
              "      <td>NaN</td>\n",
              "    </tr>\n",
              "    <tr>\n",
              "      <th>train_max_feat_exposure</th>\n",
              "      <td>0.231900</td>\n",
              "      <td>0.181203</td>\n",
              "      <td>NaN</td>\n",
              "    </tr>\n",
              "    <tr>\n",
              "      <th>train_square_sum_feature_exposure</th>\n",
              "      <td>3.264125</td>\n",
              "      <td>1.022341</td>\n",
              "      <td>NaN</td>\n",
              "    </tr>\n",
              "    <tr>\n",
              "      <th>train_max_drawdown</th>\n",
              "      <td>0.000000</td>\n",
              "      <td>0.000000</td>\n",
              "      <td>NaN</td>\n",
              "    </tr>\n",
              "    <tr>\n",
              "      <th>val_var</th>\n",
              "      <td>0.024878</td>\n",
              "      <td>0.017104</td>\n",
              "      <td>0.031109</td>\n",
              "    </tr>\n",
              "    <tr>\n",
              "      <th>val_feature_neutral_mean</th>\n",
              "      <td>0.005357</td>\n",
              "      <td>0.010660</td>\n",
              "      <td>0.027070</td>\n",
              "    </tr>\n",
              "    <tr>\n",
              "      <th>val_feat_exposure</th>\n",
              "      <td>0.083209</td>\n",
              "      <td>0.055755</td>\n",
              "      <td>0.079347</td>\n",
              "    </tr>\n",
              "    <tr>\n",
              "      <th>val_max_feat_exposure</th>\n",
              "      <td>0.222322</td>\n",
              "      <td>0.236727</td>\n",
              "      <td>0.291712</td>\n",
              "    </tr>\n",
              "    <tr>\n",
              "      <th>val_square_sum_feature_exposure</th>\n",
              "      <td>2.900952</td>\n",
              "      <td>0.995396</td>\n",
              "      <td>2.224733</td>\n",
              "    </tr>\n",
              "    <tr>\n",
              "      <th>val_max_drawdown</th>\n",
              "      <td>0.078326</td>\n",
              "      <td>0.022334</td>\n",
              "      <td>0.077983</td>\n",
              "    </tr>\n",
              "  </tbody>\n",
              "</table>\n",
              "</div>"
            ],
            "text/plain": [
              "                                    cat_reg  keras_mlp_simple  example_preds\n",
              "train_mean                         0.500004          0.505076            NaN\n",
              "train_std_dev                      0.013688          0.046424            NaN\n",
              "train_less_than_half               0.504450          0.447259            NaN\n",
              "train_less_than_mean               0.504573          0.517493            NaN\n",
              "train_autocorrelation              0.150417          0.043250            NaN\n",
              "train_mean correlation             0.095063          0.125611            NaN\n",
              "train_Median Correlation           0.095320          0.126724            NaN\n",
              "train_Variance                     0.001037          0.000635            NaN\n",
              "train_Std. Dev.                    0.032201          0.025201            NaN\n",
              "train_sharpe                       2.952130          4.984409            NaN\n",
              "train_smart sharpe                 2.529595          4.755088            NaN\n",
              "train_Numerai sharpe               9.106056         15.834826            NaN\n",
              "tournament_corr_example_preds      0.608426          0.423611       0.975926\n",
              "val_mean                           0.500160          0.506616       0.500386\n",
              "val_std_dev                        0.013713          0.048278       0.020705\n",
              "val_less_than_half                 0.502131          0.440780       0.499385\n",
              "val_less_than_mean                 0.506979          0.531918       0.506973\n",
              "val_autocorrelation                0.100184          0.193405       0.017951\n",
              "val_mean correlation               0.014060          0.021117       0.028878\n",
              "val_Median Correlation             0.017579          0.021535       0.028988\n",
              "val_Variance                       0.000645          0.000584       0.000907\n",
              "val_Std. Dev.                      0.025396          0.024174       0.030119\n",
              "val_sharpe                         0.553623          0.873550       0.958771\n",
              "val_smart sharpe                   0.491432          0.708146       0.920812\n",
              "val_Numerai sharpe                 0.497158          1.533605       2.123407\n",
              "train_var                          0.031201          0.018939            NaN\n",
              "train_feature_neutral_mean         0.093683          0.133873            NaN\n",
              "train_feat_exposure                0.085503          0.054843            NaN\n",
              "train_max_feat_exposure            0.231900          0.181203            NaN\n",
              "train_square_sum_feature_exposure  3.264125          1.022341            NaN\n",
              "train_max_drawdown                 0.000000          0.000000            NaN\n",
              "val_var                            0.024878          0.017104       0.031109\n",
              "val_feature_neutral_mean           0.005357          0.010660       0.027070\n",
              "val_feat_exposure                  0.083209          0.055755       0.079347\n",
              "val_max_feat_exposure              0.222322          0.236727       0.291712\n",
              "val_square_sum_feature_exposure    2.900952          0.995396       2.224733\n",
              "val_max_drawdown                   0.078326          0.022334       0.077983"
            ]
          },
          "metadata": {
            "tags": []
          },
          "execution_count": 35
        }
      ]
    },
    {
      "cell_type": "code",
      "metadata": {
        "id": "wcNmOGJE9HA6",
        "colab_type": "code",
        "colab": {}
      },
      "source": [
        ""
      ],
      "execution_count": null,
      "outputs": []
    },
    {
      "cell_type": "markdown",
      "metadata": {
        "id": "GbFcAngDMwB_",
        "colab_type": "text"
      },
      "source": [
        "## Model for your submission\n",
        "\n",
        "Left as an exercise to the reader 😉\n",
        "\n",
        "▶️ Visit [An easy guide to “The hardest data science tournament on the planet”](https://towardsdatascience.com/a-guide-to-the-hardest-data-science-tournament-on-the-planet-748f46e83690) to get started with how to make your submissions directly from colab.\n",
        "\n"
      ]
    },
    {
      "cell_type": "code",
      "metadata": {
        "id": "wYKGL_31Mz9o",
        "colab_type": "code",
        "colab": {}
      },
      "source": [
        "#Train and evaluate your model for submission\n"
      ],
      "execution_count": null,
      "outputs": []
    },
    {
      "cell_type": "code",
      "metadata": {
        "id": "6szh-CK1rmKq",
        "colab_type": "code",
        "colab": {}
      },
      "source": [
        ""
      ],
      "execution_count": null,
      "outputs": []
    },
    {
      "cell_type": "markdown",
      "metadata": {
        "id": "tnR0L5j8p8Qg",
        "colab_type": "text"
      },
      "source": [
        "## Uploading predictions using your API keys 🚀"
      ]
    },
    {
      "cell_type": "code",
      "metadata": {
        "id": "dNlyLZYYO-qj",
        "colab_type": "code",
        "colab": {}
      },
      "source": [
        "tournament_data[PREDICTION_NAME].to_csv(f\"{TOURNAMENT_NAME}_{current_ds}_submission.csv\")"
      ],
      "execution_count": null,
      "outputs": []
    },
    {
      "cell_type": "code",
      "metadata": {
        "id": "rEfqpxcEWDdK",
        "colab_type": "code",
        "colab": {}
      },
      "source": [
        "# NameOfYourAI\n",
        "public_id = \"YourKeys\"\n",
        "secret_key = \"YourKeys\"\n",
        "model_id = \"YourKeys\"\n",
        "napi = numerapi.NumerAPI(public_id=public_id, secret_key=secret_key)"
      ],
      "execution_count": null,
      "outputs": []
    },
    {
      "cell_type": "code",
      "metadata": {
        "id": "WeAIJHaoW3VU",
        "colab_type": "code",
        "colab": {}
      },
      "source": [
        "submission_id = napi.upload_predictions(f\"{TOURNAMENT_NAME}_{current_ds}_submission.csv\", model_id=model_id)"
      ],
      "execution_count": null,
      "outputs": []
    },
    {
      "cell_type": "markdown",
      "metadata": {
        "id": "FzH2ACmbrp0m",
        "colab_type": "text"
      },
      "source": [
        "\n",
        "\n",
        "---\n"
      ]
    },
    {
      "cell_type": "markdown",
      "metadata": {
        "id": "OiLIRZ_OmKP7",
        "colab_type": "text"
      },
      "source": [
        "# Whats Next?\n",
        " - **Customize this according to your workflow**\n",
        " - Read about [MMC](https://docs.numer.ai/tournament/metamodel-contribution)\n",
        " - Connect on [RocketChat](https://community.numer.ai/) or [Forum](https://forum.numer.ai/)\n",
        " - Take some help from [analysis_and_tips.ipynb](https://github.com/numerai/example-scripts/blob/master/analysis_and_tips.ipynb) notebook\n",
        " - Read this topic on forum about  metrics - [\"More Metrics for ya\" ](https://forum.numer.ai/t/more-metrics-for-ya/636)\n",
        " - Read and try to join the [weekly Office Hours](https://docs.numer.ai/office-hours-with-arbitrage/office-hours-recaps/ohwa-1) \\(I was interviewed [OHwA S02E10](https://docs.numer.ai/office-hours-with-arbitrage/office-hours-recaps-season-2/ohwa-s02e10) 😃)"
      ]
    },
    {
      "cell_type": "code",
      "metadata": {
        "id": "VF9Q1rBEsyXd",
        "colab_type": "code",
        "colab": {}
      },
      "source": [
        ""
      ],
      "execution_count": null,
      "outputs": []
    }
  ]
}