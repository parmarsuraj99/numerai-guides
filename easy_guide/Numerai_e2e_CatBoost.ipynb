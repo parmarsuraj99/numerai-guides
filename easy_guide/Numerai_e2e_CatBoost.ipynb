{
  "nbformat": 4,
  "nbformat_minor": 0,
  "metadata": {
    "colab": {
      "name": "Numerai-e2e-CatBoost.ipynb",
      "provenance": [],
      "collapsed_sections": [],
      "authorship_tag": "ABX9TyPE8eZuH0rXT4h6F7WUQHzR",
      "include_colab_link": true
    },
    "kernelspec": {
      "name": "python3",
      "display_name": "Python 3"
    },
    "accelerator": "GPU"
  },
  "cells": [
    {
      "cell_type": "markdown",
      "metadata": {
        "id": "view-in-github",
        "colab_type": "text"
      },
      "source": [
        "<a href=\"https://colab.research.google.com/github/parmarsuraj99/numerai-guides/blob/master/easy_guide/Numerai_e2e_CatBoost.ipynb\" target=\"_parent\"><img src=\"https://colab.research.google.com/assets/colab-badge.svg\" alt=\"Open In Colab\"/></a>"
      ]
    },
    {
      "cell_type": "markdown",
      "metadata": {
        "id": "esSvK3mcccGn"
      },
      "source": [
        "# An End-to-end guide to making your first Numer.ai Submission"
      ]
    },
    {
      "cell_type": "markdown",
      "metadata": {
        "id": "QDNviOM9wReo"
      },
      "source": [
        "The goal of this notebook in colab is to get you up and runnig with the tournament in the easiest way possible. Numerai data already comes with so many helpful scripts. This notebook is inspired by [example-scripts](https://github.com/numerai/example-scripts).\n",
        "\n",
        "Colab provides free access to GPU/TPU to everyone ⚡. To utilize GPU for your model, go to `Runtime > Change runtime type > GPU > Save`\n",
        "\n",
        "---\n",
        "\n",
        "All you have to do to make your first submission is,\n",
        "\n",
        "- Make sure you have signed up on [Numerai](https://numer.ai/signup)\n",
        "- Create and setup your API keys (which is super easy)\n",
        "- Click `Runtime > Run all`"
      ]
    },
    {
      "cell_type": "markdown",
      "metadata": {
        "id": "aTc0OJEJ77Sb"
      },
      "source": [
        "## Loading required libraries 📔 and dataset 🗄️🔽"
      ]
    },
    {
      "cell_type": "code",
      "metadata": {
        "id": "dukzbOx5YPL2"
      },
      "source": [
        "# installing required libraries\n",
        "# numerapi, for facilitating data download and predictions uploading\n",
        "# catboost, for modeling and making predictions\n",
        "!pip install numerapi\n",
        "!pip install catboost"
      ],
      "execution_count": null,
      "outputs": []
    },
    {
      "cell_type": "code",
      "metadata": {
        "id": "L3qA9k0VZ4Hj"
      },
      "source": [
        "import os\n",
        "import gc\n",
        "import csv\n",
        "import glob\n",
        "import time\n",
        "from pathlib import Path\n",
        "\n",
        "import numerapi\n",
        "\n",
        "import scipy\n",
        "import numpy as np\n",
        "import pandas as pd\n",
        "import matplotlib.pyplot as plt\n",
        "\n",
        "from catboost import CatBoostRegressor"
      ],
      "execution_count": null,
      "outputs": []
    },
    {
      "cell_type": "code",
      "metadata": {
        "id": "HrzPVfR6egjj"
      },
      "source": [
        "napi = numerapi.NumerAPI(verbosity=\"info\")\n",
        "# download current dataset\n",
        "napi.download_current_dataset(unzip=True)\n",
        "\n",
        "current_ds = napi.get_current_round()\n",
        "latest_round = os.path.join('numerai_dataset_'+str(current_ds))"
      ],
      "execution_count": null,
      "outputs": []
    },
    {
      "cell_type": "markdown",
      "metadata": {
        "id": "mHdD3oxv8D5d"
      },
      "source": [
        "## Helper functions for efficient loading and evaluation 📐"
      ]
    },
    {
      "cell_type": "code",
      "metadata": {
        "id": "tHATa1jEq01J"
      },
      "source": [
        "TOURNAMENT_NAME = \"kazutsugi\"\n",
        "TARGET_NAME = f\"target_{TOURNAMENT_NAME}\"\n",
        "PREDICTION_NAME = f\"prediction_{TOURNAMENT_NAME}\"\n",
        "\n",
        "BENCHMARK = 0\n",
        "BAND = 0.2\n",
        "\n",
        "#-----------------------------------------------------\n",
        "\n",
        "# Submissions are scored by spearman correlation\n",
        "def score(df):\n",
        "    # method=\"first\" breaks ties based on order in array\n",
        "    return np.corrcoef(\n",
        "        df[TARGET_NAME],\n",
        "        df[PREDICTION_NAME].rank(pct=True, method=\"first\")\n",
        "    )[0, 1]\n",
        "\n",
        "\n",
        "# The payout function\n",
        "def payout(scores):\n",
        "    return ((scores - BENCHMARK) / BAND).clip(lower=-1, upper=1)\n",
        "\n",
        "\n",
        "# Read the csv file into a pandas Dataframe\n",
        "def read_csv(file_path):\n",
        "    with open(file_path, 'r') as f:\n",
        "        column_names = next(csv.reader(f))\n",
        "        dtypes = {x: np.float16 for x in column_names if\n",
        "                  x.startswith(('feature', 'target'))}\n",
        "    return pd.read_csv(file_path, dtype=dtypes)"
      ],
      "execution_count": null,
      "outputs": []
    },
    {
      "cell_type": "markdown",
      "metadata": {
        "id": "DxqczTVq8PR4"
      },
      "source": [
        "## Loading and exploring dataset into memory 🖥️"
      ]
    },
    {
      "cell_type": "code",
      "metadata": {
        "id": "VgodzImqq7z3"
      },
      "source": [
        "%%time\n",
        "print(\"# Loading data...\")\n",
        "# The training data is used to train your model how to predict the targets.\n",
        "training_data = read_csv(os.path.join(latest_round, \"numerai_training_data.csv\")).set_index(\"id\")\n",
        "# The tournament data is the data that Numerai uses to evaluate your model.\n",
        "tournament_data = read_csv(os.path.join(latest_round, \"numerai_tournament_data.csv\")).set_index(\"id\")\n",
        "\n",
        "example_preds = read_csv(os.path.join(latest_round, \"example_predictions_target_kazutsugi.csv\"))\n",
        "\n",
        "validation_data = tournament_data[tournament_data.data_type == \"validation\"]"
      ],
      "execution_count": null,
      "outputs": []
    },
    {
      "cell_type": "code",
      "metadata": {
        "id": "gKGYq1Ce7MHX"
      },
      "source": [
        "feature_names = [f for f in training_data.columns if f.startswith(\"feature\")]\n",
        "print(f\"Loaded {len(feature_names)} features\")\n",
        "\n",
        "cols = feature_names+[TARGET_NAME]"
      ],
      "execution_count": null,
      "outputs": []
    },
    {
      "cell_type": "markdown",
      "metadata": {
        "id": "v9HQWh6zsJcH"
      },
      "source": [
        "Training data | Sample submission\n",
        "- | - \n",
        "![alt](https://gblobscdn.gitbook.com/assets%2F-LmGruQ_-ZYj9XMQUd5x%2F-LrjUJcZGLBAGyzvX2tl%2F-LrlScdEXnDEVhYpSsIN%2FEx_data.png?alt=media&token=66e1ed15-abca-4fda-8485-cc72b7662bdb) | ![alt](https://gblobscdn.gitbook.com/assets%2F-LmGruQ_-ZYj9XMQUd5x%2F-LrjUJcZGLBAGyzvX2tl%2F-LrlT5EetbUvp5qr9MBy%2Fimage.png?alt=media&token=cab0eef4-759f-4412-8a8c-86b211e85917)"
      ]
    },
    {
      "cell_type": "code",
      "metadata": {
        "id": "LyVjLKTy3tMx"
      },
      "source": [
        "training_data.head()"
      ],
      "execution_count": null,
      "outputs": []
    },
    {
      "cell_type": "code",
      "metadata": {
        "id": "JFZAE25OyYNa"
      },
      "source": [
        "tournament_data.head()"
      ],
      "execution_count": null,
      "outputs": []
    },
    {
      "cell_type": "markdown",
      "metadata": {
        "id": "RwdqS642BP-u"
      },
      "source": [
        "## Training our model 🤖⚙️\n",
        "\n",
        "This is where most of tweaking will happen. You can add more model in your pipeline simply by changing your model and data pipeline suited for that architecture."
      ]
    },
    {
      "cell_type": "code",
      "metadata": {
        "id": "yGCEWaizehA9"
      },
      "source": [
        "%%time\n",
        "MODEL_FILE = \"example_model.cbm\"\n",
        "\n",
        "params = {\n",
        "    'task_type': 'GPU'\n",
        "    }\n",
        "\n",
        "model = CatBoostRegressor(**params)\n",
        "\n",
        "if os.path.isfile(MODEL_FILE):\n",
        "    print(\"Loading pre-trained model...\")\n",
        "    model.load_model(MODEL_FILE)\n",
        "else:\n",
        "    print(\"Training model...\")\n",
        "    model.fit(training_data[feature_names].astype(np.float32), training_data[TARGET_NAME].astype(np.float32),\n",
        "         eval_set=(validation_data[feature_names].astype(np.float32), validation_data[TARGET_NAME].astype(np.float32))\n",
        "         )\n",
        "    model.save_model(MODEL_FILE)"
      ],
      "execution_count": null,
      "outputs": []
    },
    {
      "cell_type": "markdown",
      "metadata": {
        "id": "y1ZceR9FAaPa"
      },
      "source": [
        "## Predictions. Evaluation. ➡️"
      ]
    },
    {
      "cell_type": "code",
      "metadata": {
        "id": "cAAMLN13eg9z"
      },
      "source": [
        "%%time\n",
        "print(\"Generating predictions on training data...\")\n",
        "training_preds = model.predict(training_data[feature_names].astype(np.float32))\n",
        "training_data[PREDICTION_NAME] = training_preds\n",
        "gc.collect()\n",
        "\n",
        "print(\"Generating predictions on tournament data...\")\n",
        "tournament_preds = model.predict(tournament_data[feature_names].astype(np.float32))\n",
        "tournament_data[PREDICTION_NAME] = tournament_preds"
      ],
      "execution_count": null,
      "outputs": []
    },
    {
      "cell_type": "code",
      "metadata": {
        "id": "O2r269Xaeo9_"
      },
      "source": [
        "# Check the per-era correlations on the training set (in sample)\n",
        "train_correlations = training_data.groupby(\"era\").apply(score)\n",
        "print(f\"On training the correlation has mean {train_correlations.mean()} and std {train_correlations.std()}\")\n",
        "print(f\"On training the average per-era payout is {payout(train_correlations).mean()}\")\n",
        "\n",
        "# Check the per-era correlations on the validation set (out of sample)\n",
        "validation_data = tournament_data[tournament_data.data_type == \"validation\"]\n",
        "validation_correlations = validation_data.groupby(\"era\").apply(score)\n",
        "print(f\"On validation the correlation has mean {validation_correlations.mean()} and \"\n",
        "        f\"std {validation_correlations.std()}\")\n",
        "print(f\"On validation the average per-era payout is {payout(validation_correlations).mean()}\")"
      ],
      "execution_count": null,
      "outputs": []
    },
    {
      "cell_type": "code",
      "metadata": {
        "id": "GWjIbe_emZtd"
      },
      "source": [
        "\n",
        "#FEAT_EXPOSURE: This is the standard deviation of your predictions' correlations with each feature. \n",
        "corr_list = []\n",
        "for feature in feature_names:\n",
        "    corr_list.append(np.corrcoef(tournament_data[feature].values, tournament_data[PREDICTION_NAME])[0,1])\n",
        "corr_series = pd.Series(corr_list, index=feature_names)\n",
        "print(\"Feat. exposure: \", corr_series.describe()['std'])"
      ],
      "execution_count": null,
      "outputs": []
    },
    {
      "cell_type": "code",
      "metadata": {
        "id": "dNlyLZYYO-qj"
      },
      "source": [
        "tournament_data[PREDICTION_NAME].to_csv(f\"{TOURNAMENT_NAME}_{current_ds}_submission.csv\")"
      ],
      "execution_count": null,
      "outputs": []
    },
    {
      "cell_type": "markdown",
      "metadata": {
        "id": "tnR0L5j8p8Qg"
      },
      "source": [
        "## Uploading predictions using your API keys 🚀"
      ]
    },
    {
      "cell_type": "markdown",
      "metadata": {
        "id": "5KyofI17Al0m"
      },
      "source": [
        "To create a key for submission only, \n",
        "\n",
        "`Settings -> Create API key -> select \"Upload Predictions\" -> Save`\n"
      ]
    },
    {
      "cell_type": "code",
      "metadata": {
        "id": "rEfqpxcEWDdK"
      },
      "source": [
        "# NameOfYourAI\n",
        "# Add keys between the quotes\n",
        "public_id = \"YourKeys\"\n",
        "secret_key = \"YourKeys\"\n",
        "model_id = \"YourKeys\"\n",
        "napi = numerapi.NumerAPI(public_id=public_id, secret_key=secret_key)"
      ],
      "execution_count": null,
      "outputs": []
    },
    {
      "cell_type": "code",
      "metadata": {
        "id": "WeAIJHaoW3VU"
      },
      "source": [
        "submission_id = napi.upload_predictions(f\"{TOURNAMENT_NAME}_{current_ds}_submission.csv\", model_id=model_id)"
      ],
      "execution_count": null,
      "outputs": []
    },
    {
      "cell_type": "markdown",
      "metadata": {
        "id": "xzbmOgR3klas"
      },
      "source": [
        "And its done. Congratulations🎉. Your predictions for latest round are submitted! \n",
        "\n",
        "\n",
        "Check some information about your latest predictions on [Numerai Tournament]\n",
        "(https://numer.ai/tournament). It will show some metrics like this,\n",
        "\n",
        "![Submission](https://cdn-images-1.medium.com/max/600/1*3pb7M7utM21d3RXnhjx5KA.png)\n",
        "\n",
        "Note: This screenshot is from my other submissions\n"
      ]
    },
    {
      "cell_type": "markdown",
      "metadata": {
        "id": "7ZdK2PwsOIWr"
      },
      "source": [
        "## Let's check out how well the `example_predictions` perform 💭\n",
        "You can compare your models with `example_predictions` and try to beat it on some metrics or atlest, you should aim for positive correlation in initial submissions."
      ]
    },
    {
      "cell_type": "code",
      "metadata": {
        "id": "LfqhltcNOAgH",
        "cellView": "code"
      },
      "source": [
        "#@title\n",
        "tournament_data[PREDICTION_NAME]=example_preds['prediction_kazutsugi'].values"
      ],
      "execution_count": null,
      "outputs": []
    },
    {
      "cell_type": "code",
      "metadata": {
        "id": "byBsR8gsN8d7",
        "cellView": "code"
      },
      "source": [
        "#@title\n",
        "# Check the per-era correlations on the validation set (out of sample)\n",
        "validation_data = tournament_data[tournament_data.data_type == \"validation\"]\n",
        "validation_correlations = validation_data.groupby(\"era\").apply(score)\n",
        "print(f\"On validation the correlation has mean {validation_correlations.mean()} and \"\n",
        "        f\"std {validation_correlations.std()}\")\n",
        "print(f\"On validation the average per-era payout is {payout(validation_correlations).mean()}\")"
      ],
      "execution_count": null,
      "outputs": []
    },
    {
      "cell_type": "markdown",
      "metadata": {
        "id": "IktkOxmVCwfc"
      },
      "source": [
        "## Some useful tips from my experience for using colab efficiently ✨\n",
        "- You can do simple data exploration without any accelators(GPU/TPU).\n",
        "- Use GPU/TPU only when everything is ready for execution.\n",
        "- You can mount your Google Drive to save any work done here.\n",
        "- Make sure to terminate session if your work is complete and you no longer need that session.\n"
      ]
    },
    {
      "cell_type": "markdown",
      "metadata": {
        "id": "fTj60R3grwED"
      },
      "source": [
        "Created by Suraj Parmar\n",
        "\n",
        "- Numerai: [SurajP](https://numer.ai/surajp)\n",
        "\n",
        "- Twitter: [@parmarsuraj99](https://twitter.com/parmarsuraj99)\n",
        "\n",
        "\n",
        "Thanks to [@NJ](https://twitter.com/tasha_jade) and [@MikeP](https://twitter.com/EasyMikeP) for the feedback\n"
      ]
    },
    {
      "cell_type": "code",
      "metadata": {
        "id": "qM8yW9SkFMip"
      },
      "source": [
        ""
      ],
      "execution_count": null,
      "outputs": []
    }
  ]
}